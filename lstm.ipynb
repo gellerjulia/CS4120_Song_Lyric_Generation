{
 "cells": [
  {
   "cell_type": "markdown",
   "metadata": {},
   "source": [
    "#### RNN with LSTMs Language Model using Skip-Gram Dense Embeddings"
   ]
  },
  {
   "cell_type": "code",
   "execution_count": 1,
   "metadata": {},
   "outputs": [],
   "source": [
    "from gensim.models import Word2Vec\n",
    "import pandas as pd\n",
    "import numpy as np\n",
    "import nltk\n",
    "import matplotlib.pyplot as plt\n",
    "from collections import Counter \n",
    "from itertools import chain\n",
    "\n",
    "import keras\n",
    "from keras.preprocessing.text import Tokenizer\n",
    "from keras.utils import to_categorical\n",
    "from keras.models import Sequential\n",
    "from keras.layers import Dense\n",
    "from keras.layers import Dropout\n",
    "from keras.layers import Masking\n",
    "from keras.layers import LSTM\n",
    "from keras.layers import Bidirectional\n",
    "\n",
    "\n",
    "import utils"
   ]
  },
  {
   "cell_type": "code",
   "execution_count": 2,
   "metadata": {},
   "outputs": [],
   "source": [
    "# constants \n",
    "SENTENCE_BEGIN = \"<s>\"\n",
    "SENTENCE_END = \"</s>\"\n",
    "PADDING = '<pad>'\n",
    "UNK = \"<unk>\"\n",
    "\n",
    "# hyperparameters  \n",
    "EMBEDDINGS_SIZE = 100\n",
    "BATCH_SIZE = 128\n",
    "SEQUENCE_LENGTH = 10\n",
    "\n",
    "# filepaths \n",
    "TRAIN_FILEPATH = \"country_train.csv\"\n",
    "VAL_FILEPATH = \"country_val.csv\"\n",
    "\n",
    "#TRAIN_FILEPATH = \"metal_train.csv\"\n",
    "#VAL_FILEPATH = \"metal_val.csv\"\n",
    "\n"
   ]
  },
  {
   "cell_type": "code",
   "execution_count": 20,
   "metadata": {},
   "outputs": [
    {
     "name": "stdout",
     "output_type": "stream",
     "text": [
      "Number of training lines: 149771\n",
      "Number of validation lines: 18610\n",
      "Lyric Example: i've seen how you tremble whenever he walks through your mind\n"
     ]
    }
   ],
   "source": [
    "# read in data\n",
    "train_lyrics = pd.read_csv(TRAIN_FILEPATH, header=None)[0].to_list()\n",
    "val_lyrics = pd.read_csv(VAL_FILEPATH, header=None)[0].to_list()\n",
    "print(\"Number of training lines:\", len(train_lyrics))\n",
    "print(\"Number of validation lines:\", len(val_lyrics))\n",
    "print('Lyric Example:', train_lyrics[0])"
   ]
  },
  {
   "cell_type": "markdown",
   "metadata": {},
   "source": [
    "#### Data Preparation: Tokenize Lyrics, Pad Sequences, Create Dense Word Embeddings"
   ]
  },
  {
   "cell_type": "code",
   "execution_count": 21,
   "metadata": {},
   "outputs": [],
   "source": [
    "# add a single sentence start and end token around each sequence \n",
    "# TODO remove \n",
    "# TEST\n",
    "#train_lyrics = train_lyrics[:10000]\n",
    "#val_lyrics = val_lyrics[:2000]\n",
    "\n",
    "# REAL\n",
    "#train_lyrics = train_lyrics[:70000]\n",
    "#val_lyrics = val_lyrics[:10000]\n",
    "\n",
    "train_tokens = [utils.tokenize_line(line, ngram=1) for line in train_lyrics] \n",
    "val_tokens = [utils.tokenize_line(line, ngram=1) for line in val_lyrics] "
   ]
  },
  {
   "cell_type": "code",
   "execution_count": 22,
   "metadata": {},
   "outputs": [
    {
     "name": "stdout",
     "output_type": "stream",
     "text": [
      "Mean Length: 10.021025432159764\n",
      "Median Length: 10.0\n",
      "90th Percentile Length: 15.0\n",
      "Max Length: 246\n"
     ]
    },
    {
     "data": {
      "image/png": "[encoded data removed]",
      "text/plain": [
       "<Figure size 640x480 with 1 Axes>"
      ]
     },
     "metadata": {},
     "output_type": "display_data"
    }
   ],
   "source": [
    "# plot lengths of lyric lines to determine an appropriate length to pad/truncate to\n",
    "train_sequence_lengths = [len(seq) for seq in train_tokens]\n",
    "\n",
    "print(\"Mean Length:\", np.mean(train_sequence_lengths))\n",
    "print(\"Median Length:\", np.median(train_sequence_lengths))\n",
    "print(\"90th Percentile Length:\", np.percentile(train_sequence_lengths, 90))\n",
    "print(\"Max Length:\", np.max(train_sequence_lengths))\n",
    "\n",
    "plt.hist(train_sequence_lengths, bins=50)\n",
    "plt.xlabel(\"Length of Lyric Line\")\n",
    "plt.ylabel(\"Number of Lines\")\n",
    "plt.title(\"Distribution of Line Length for Lyrics in Training Data\")\n",
    "plt.show()"
   ]
  },
  {
   "cell_type": "code",
   "execution_count": 23,
   "metadata": {},
   "outputs": [
    {
     "name": "stdout",
     "output_type": "stream",
     "text": [
      "Number of sequences: 149771\n",
      "Length of Sequences: 10\n"
     ]
    }
   ],
   "source": [
    "def adjust_sequence_length(tokenized_seqs: list, sequence_length: int = SEQUENCE_LENGTH) -> list:\n",
    "    \"\"\"\n",
    "    Pads or truncates all sequences in the provided list to the same length. \n",
    "    Adds or removes tokens from the right side of the sequence.\n",
    "\n",
    "    Args:\n",
    "        tokenized_seqs (list): A list of lists of tokens. Each inner list represents a sequence with tokens as elements\n",
    "        sequence_length (int): The desired length for all of the sequences\n",
    "        padding_token (str): The token that should be used to pad short sequences to the proper length\n",
    "\n",
    "    Returns:\n",
    "        size_adjusted_sequences (list): A list of lists of tokens, where each inner list is the same length\n",
    "    \"\"\"\n",
    "    size_adjusted_sequences = []\n",
    "    for sequence in tokenized_seqs:\n",
    "        if len(sequence) < sequence_length:\n",
    "            # too short, add padding\n",
    "            num_padding = sequence_length - len(sequence)\n",
    "            size_adjusted_sequences.append( ([PADDING] * num_padding) + sequence)\n",
    "            #size_adjusted_sequences.append(sequence + ([PADDING] * num_padding))\n",
    "        else:\n",
    "            # truncate sequences longer than the chosen length. Keep SENTENCE_END tokens to ensure sentences terminate \n",
    "            size_adjusted_sequences.append(sequence[:sequence_length])\n",
    "\n",
    "    return size_adjusted_sequences\n",
    "\n",
    "\n",
    "def replace_unknowns_train(tokenized_seqs: list) -> list:\n",
    "    \"\"\"\"\n",
    "    Replaces words that occur only once with an UNK token\n",
    "\n",
    "    Args:\n",
    "        tokenized_seqs (list): A list of lists of tokens. Each inner list represents a sequence with tokens as elements\n",
    "\n",
    "    Returns:\n",
    "        Tokenized sequences with low frequency words replaced with the unknown special token \n",
    "    \"\"\"\n",
    "    # concatenate all sequences together \n",
    "    all_tokens = list(chain(*tokenized_seqs))\n",
    "    token_counts = Counter(all_tokens)\n",
    "\n",
    "    # Replace words with low frequencies to UNK so that we can calculate perplexity on test data with unknown words \n",
    "    cleaned_tokenized_seqs = []\n",
    "    for seq in tokenized_seqs:\n",
    "        cleaned_seq = [tok if token_counts[tok] > 1 else UNK for tok in seq]\n",
    "        cleaned_tokenized_seqs.append(cleaned_seq)\n",
    "\n",
    "    return cleaned_tokenized_seqs\n",
    "\n",
    "\n",
    "size_adjusted_sequences_train = adjust_sequence_length(train_tokens)\n",
    "cleaned_sequences_train = replace_unknowns_train(size_adjusted_sequences_train)\n",
    "print(\"Number of sequences:\", len(cleaned_sequences_train))\n",
    "print(\"Length of Sequences:\", len(cleaned_sequences_train[0]))"
   ]
  },
  {
   "cell_type": "code",
   "execution_count": 24,
   "metadata": {},
   "outputs": [
    {
     "name": "stdout",
     "output_type": "stream",
     "text": [
      "Vocab Size: 10610\n",
      "encoded examples: \n",
      " [2, 4, 45, 305, 81, 6, 4212, 1035, 37, 1259] \n",
      " [2, 4213, 49, 1306, 16, 1133, 49, 27, 148, 3]\n"
     ]
    }
   ],
   "source": [
    "# Use Tokenizer to map each token to a unique index \n",
    "tokenizer = Tokenizer()\n",
    "tokenizer.fit_on_texts(cleaned_sequences_train)\n",
    "encoded_sequences_train = tokenizer.texts_to_sequences(cleaned_sequences_train)\n",
    "\n",
    "print(\"Vocab Size:\", len(tokenizer.word_index))\n",
    "print('encoded examples:', '\\n', encoded_sequences_train[0], '\\n', encoded_sequences_train[1])"
   ]
  },
  {
   "cell_type": "code",
   "execution_count": 25,
   "metadata": {},
   "outputs": [
    {
     "name": "stdout",
     "output_type": "stream",
     "text": [
      "Vocab size for word embeddings: 10610\n"
     ]
    }
   ],
   "source": [
    "# create word embeddings using skip gram algorithm\n",
    "word_embeddings = Word2Vec(sentences=cleaned_sequences_train, vector_size=EMBEDDINGS_SIZE, window=5, sg=1, min_count=1)\n",
    "print('Vocab size for word embeddings:', len(word_embeddings.wv))"
   ]
  },
  {
   "cell_type": "code",
   "execution_count": 26,
   "metadata": {},
   "outputs": [],
   "source": [
    "# Function that gives mappings from words to their embeddings and  \n",
    "# indexes from the tokenizers to their embeddings\n",
    "\n",
    "def map_embeddings(embeddings: Word2Vec, tokenizer: Tokenizer) -> (dict, dict):\n",
    "    ''' Creates mappings between different token representations \n",
    "    Arguments:\n",
    "        embeddings: Word2Vec word embeddings for the data (maps tokens to embedding vectors)\n",
    "        tokenizer: Tokenizer used to tokenize the data (maps token to index)\n",
    "    Returns:\n",
    "        (dict): mapping from word to its embedding vector\n",
    "        (dict): mapping from index to its embedding vector\n",
    "    '''\n",
    "    # initialize dictionaries \n",
    "    token_to_embedding = {}\n",
    "    index_to_embedding = {}\n",
    "\n",
    "    # tokenizer maps tokens to unique indices \n",
    "    for token, index in tokenizer.word_index.items():\n",
    "        embedding = embeddings[token]\n",
    "\n",
    "        token_to_embedding[token] = embedding\n",
    "        index_to_embedding[index] = embedding\n",
    "\n",
    "    return (token_to_embedding, index_to_embedding)\n",
    "\n",
    "\n",
    "token_to_embedding, index_to_embedding = map_embeddings(word_embeddings.wv, tokenizer)\n",
    "\n",
    "# Set embedding associated with padding token to all zeros -- will be used to mask this token\n",
    "#padding_index = tokenizer.word_index.get(PADDING)\n",
    "#index_to_embedding[padding_index] = [0] * EMBEDDINGS_SIZE\n",
    "#token_to_embedding[PADDING] = [0] * EMBEDDINGS_SIZE\n",
    "\n",
    "# Fill in unused index zero to avoid dimension mismatch\n",
    "index_to_embedding[0] = [0] * EMBEDDINGS_SIZE"
   ]
  },
  {
   "cell_type": "markdown",
   "metadata": {},
   "source": [
    "#### Generate Samples for Training"
   ]
  },
  {
   "cell_type": "code",
   "execution_count": 27,
   "metadata": {},
   "outputs": [
    {
     "name": "stdout",
     "output_type": "stream",
     "text": [
      "X batch shape: (128, 9, 100)\n",
      "y batch shape: (128, 9, 10611)\n"
     ]
    }
   ],
   "source": [
    "def data_generator(data: list, num_sequences_per_batch: int, index_2_embedding: dict) -> (np.array, np.array):\n",
    "    '''\n",
    "    Returns a data generator to train the neural network in batches\n",
    "\n",
    "    X data will be represented in embedding form.\n",
    "    Y data will be represented with one hot vectors. \n",
    "\n",
    "    Args:\n",
    "    data (list of lists): tokenized sequences represented by their unique index encodings \n",
    "    num_sequences_per_batch (int): batch size yielded on each iteration of the generator \n",
    "    index_2_embedding (dict): mapping between unique token indices and dense word embeddings \n",
    "\n",
    "    Returns:\n",
    "    X_batch_embeddings (3-D numpy array): sequences of embeddings with dimensions (batch size, num timesteps, embedding size)\n",
    "                                          Take the first (SEQUENCE_LENGTH - 1) tokens of each sequence\n",
    "    y_batch (3-D numpy array): sequences of one hot vectors with dimensions (batch size, num timesteps, vocab size)\n",
    "                                          Take the last (SEQUENCE_LENGTH - 1) tokens of each sequence \n",
    "                                          (X shifted forward one token so that the neural net predicts the next word in the sequence for each timestep)\n",
    "    '''\n",
    "    # iterate over data in batches - stored in the form of unique token indices \n",
    "    i = 0\n",
    "    while True:\n",
    "        # get samples that we'd like to train on for this batch \n",
    "        data_batch = data[i:i+num_sequences_per_batch]\n",
    "\n",
    "        # increment i with each batch \n",
    "        i += num_sequences_per_batch\n",
    "\n",
    "        # split into X and Y -- shifted sequence so that for each timestep, Y is the token that follows X \n",
    "        X = [sequence[:-1] for sequence in data_batch]\n",
    "        Y = [sequence[1:] for sequence in data_batch]\n",
    "\n",
    "        # get embeddings for X data \n",
    "        X_embeddings = []\n",
    "        for X_sequence in X:\n",
    "            X_sequence_embeddings = [index_2_embedding[token_idx] for token_idx in X_sequence]\n",
    "            X_embeddings.append(X_sequence_embeddings)\n",
    "\n",
    "        # get one hot vectors for Y data \n",
    "        Y_one_hot_vectors = []\n",
    "        for Y_sequence in Y:\n",
    "            Y_one_hot = to_categorical(Y_sequence, num_classes=len(index_2_embedding))\n",
    "            Y_one_hot_vectors.append(Y_one_hot)\n",
    "\n",
    "        # yield statement instead of return for generator \n",
    "        yield(np.array(X_embeddings), np.array(Y_one_hot_vectors))\n",
    "\n",
    "\n",
    "# demo the data generator\n",
    "demo_data_generator = data_generator(encoded_sequences_train, BATCH_SIZE, index_to_embedding)\n",
    "demo_sample = next(demo_data_generator)\n",
    "print(\"X batch shape:\", demo_sample[0].shape)\n",
    "print(\"y batch shape:\", demo_sample[1].shape)\n"
   ]
  },
  {
   "cell_type": "code",
   "execution_count": 28,
   "metadata": {},
   "outputs": [],
   "source": [
    "# prepare validation data -- unknown words determined by training vocabulary \n",
    "def encode_val_sequences(tokenized_seqs: list, tokenizer) -> list:\n",
    "    \"\"\"\"\n",
    "    Replaces words that are not in the tokenizer's vocab with the unknown special token and encodes it to \n",
    "    unique token indices specified by the provided Tokenizer.\n",
    "\n",
    "    Args:\n",
    "        tokenized_seqs (list): A list of lists of tokens. Each inner list represents a sequence with tokens as elements\n",
    "        tokenizer: Tokenizer used maps token to index\n",
    "\n",
    "    Returns:\n",
    "        Encoded sequences with words not in the training vocabulary replaced with the unknown special token \n",
    "    \"\"\"\n",
    "    cleaned_tokenized_seqs = []\n",
    "    for seq in tokenized_seqs:\n",
    "        cleaned_seq = [tok if tok in tokenizer.word_index.keys() else UNK for tok in seq]\n",
    "        cleaned_tokenized_seqs.append(cleaned_seq)\n",
    "\n",
    "    return tokenizer.texts_to_sequences(cleaned_tokenized_seqs)\n",
    "\n",
    "size_adjusted_sequences_val = adjust_sequence_length(val_tokens)\n",
    "encoded_sequences_val = encode_val_sequences(size_adjusted_sequences_val, tokenizer)"
   ]
  },
  {
   "cell_type": "markdown",
   "metadata": {},
   "source": [
    "#### Create and Train Model"
   ]
  },
  {
   "cell_type": "code",
   "execution_count": 12,
   "metadata": {},
   "outputs": [],
   "source": [
    "def lstm_rnn(train_data: np.array,\n",
    "             val_data: np.array, \n",
    "             index_2_embedding: dict, \n",
    "             num_epochs: int=1, \n",
    "             num_sequences_per_batch: int=BATCH_SIZE, \n",
    "             sequence_length: int=SEQUENCE_LENGTH,\n",
    "             embedding_size: int=EMBEDDINGS_SIZE):\n",
    "    \"\"\"\n",
    "    Creates and trains an RNN with LSTM cells using given training data and batch size.\n",
    "\n",
    "    Args:\n",
    "        train_data (list of lists): encoded sequences of training data represented by token indices \n",
    "        train_data (list of lists): encoded sequences of validation data represented by token indices \n",
    "        index_2_embedding (dict): mapping from token index -> word2vec embeddings \n",
    "        num_epochs (int): number of training epochs\n",
    "        num_sequences_per_batch (int): batch size for training data \n",
    "        sequence_length (int): number of tokens in each training sample \n",
    "        embedding_size (int): size of the dense word embeddings used to represent tokens \n",
    "    Returns:\n",
    "        A trained Neural Network language model\n",
    "    \"\"\"\n",
    "    # define model parameters\n",
    "    hidden_units = 200\n",
    "    hidden_input_dim = (sequence_length - 1, embedding_size)      # (number of steps, number of features per step)\n",
    "    output_dim = len(index_2_embedding)                            # vocab size \n",
    "\n",
    "    # instantiate model\n",
    "    model = Sequential()\n",
    "\n",
    "\n",
    "    # mask the padding token \n",
    "    # model.add(Masking(mask_value=0.0))\n",
    "\n",
    "    # hidden layer\n",
    "    model.add(Bidirectional(LSTM(hidden_units, \n",
    "                                 input_shape=hidden_input_dim,\n",
    "                                 return_sequences=True)))\n",
    "\n",
    "    # output layer\n",
    "    model.add(Dense(units=output_dim, activation='softmax'))\n",
    "\n",
    "    # configure the learning process\n",
    "    model.compile(loss='categorical_crossentropy',\n",
    "                  optimizer='adam',\n",
    "                  metrics=[\"top_k_categorical_accuracy\"])\n",
    "    \n",
    "    # total number of batches per epoch \n",
    "    steps_per_epoch = len(train_data)//num_sequences_per_batch\n",
    "    steps_per_epoch_val = len(val_data)//num_sequences_per_batch\n",
    "\n",
    "    for i in range(num_epochs):\n",
    "        if i % 5 == 0:\n",
    "            print(\"Epoch\", i)\n",
    "\n",
    "        # create a new data generator for us to iterate through\n",
    "        train_generator = data_generator(train_data, num_sequences_per_batch, index_2_embedding)\n",
    "        val_generator = data_generator(val_data, num_sequences_per_batch, index_2_embedding)\n",
    "\n",
    "        # train model \n",
    "        model.fit(x=train_generator, steps_per_epoch=steps_per_epoch, validation_data=val_generator, validation_steps=steps_per_epoch_val)\n",
    "\n",
    "    model.summary()\n",
    "    return model"
   ]
  },
  {
   "cell_type": "code",
   "execution_count": 13,
   "metadata": {},
   "outputs": [
    {
     "name": "stdout",
     "output_type": "stream",
     "text": [
      "Epoch 0\n",
      "1170/1170 [==============================] - 204s 171ms/step - loss: 2.3811 - top_k_categorical_accuracy: 0.7339 - val_loss: 0.8464 - val_top_k_categorical_accuracy: 0.9124\n",
      "1170/1170 [==============================] - 209s 179ms/step - loss: 0.6557 - top_k_categorical_accuracy: 0.9299 - val_loss: 0.5314 - val_top_k_categorical_accuracy: 0.9435\n",
      "1170/1170 [==============================] - 210s 179ms/step - loss: 0.4318 - top_k_categorical_accuracy: 0.9516 - val_loss: 0.4399 - val_top_k_categorical_accuracy: 0.9510\n",
      "1170/1170 [==============================] - 210s 179ms/step - loss: 0.3214 - top_k_categorical_accuracy: 0.9647 - val_loss: 0.4008 - val_top_k_categorical_accuracy: 0.9540\n",
      "1170/1170 [==============================] - 210s 179ms/step - loss: 0.2598 - top_k_categorical_accuracy: 0.9704 - val_loss: 0.3810 - val_top_k_categorical_accuracy: 0.9561\n",
      "Epoch 5\n",
      "1170/1170 [==============================] - 213s 182ms/step - loss: 0.2254 - top_k_categorical_accuracy: 0.9724 - val_loss: 0.3683 - val_top_k_categorical_accuracy: 0.9575\n",
      "1170/1170 [==============================] - 219s 187ms/step - loss: 0.2040 - top_k_categorical_accuracy: 0.9740 - val_loss: 0.3618 - val_top_k_categorical_accuracy: 0.9583\n",
      "1170/1170 [==============================] - 212s 181ms/step - loss: 0.1885 - top_k_categorical_accuracy: 0.9757 - val_loss: 0.3584 - val_top_k_categorical_accuracy: 0.9585\n",
      "1170/1170 [==============================] - 206s 176ms/step - loss: 0.1758 - top_k_categorical_accuracy: 0.9775 - val_loss: 0.3575 - val_top_k_categorical_accuracy: 0.9590\n",
      "1170/1170 [==============================] - 214s 183ms/step - loss: 0.1645 - top_k_categorical_accuracy: 0.9793 - val_loss: 0.3601 - val_top_k_categorical_accuracy: 0.9588\n",
      "Epoch 10\n",
      "1170/1170 [==============================] - 216s 185ms/step - loss: 0.1544 - top_k_categorical_accuracy: 0.9809 - val_loss: 0.3629 - val_top_k_categorical_accuracy: 0.9584\n",
      "1170/1170 [==============================] - 217s 185ms/step - loss: 0.1457 - top_k_categorical_accuracy: 0.9824 - val_loss: 0.3605 - val_top_k_categorical_accuracy: 0.9590\n",
      "1170/1170 [==============================] - 211s 180ms/step - loss: 0.1374 - top_k_categorical_accuracy: 0.9836 - val_loss: 0.3590 - val_top_k_categorical_accuracy: 0.9600\n",
      "1170/1170 [==============================] - 214s 183ms/step - loss: 0.1301 - top_k_categorical_accuracy: 0.9848 - val_loss: 0.3603 - val_top_k_categorical_accuracy: 0.9600\n",
      "1170/1170 [==============================] - 211s 180ms/step - loss: 0.1244 - top_k_categorical_accuracy: 0.9858 - val_loss: 0.3632 - val_top_k_categorical_accuracy: 0.9601\n",
      "Epoch 15\n",
      "1170/1170 [==============================] - 210s 179ms/step - loss: 0.1178 - top_k_categorical_accuracy: 0.9867 - val_loss: 0.3706 - val_top_k_categorical_accuracy: 0.9591\n",
      "1170/1170 [==============================] - 214s 183ms/step - loss: 0.1127 - top_k_categorical_accuracy: 0.9876 - val_loss: 0.3787 - val_top_k_categorical_accuracy: 0.9587\n",
      "1170/1170 [==============================] - 212s 181ms/step - loss: 0.1077 - top_k_categorical_accuracy: 0.9883 - val_loss: 0.3750 - val_top_k_categorical_accuracy: 0.9595\n",
      "1170/1170 [==============================] - 213s 182ms/step - loss: 0.1027 - top_k_categorical_accuracy: 0.9890 - val_loss: 0.3791 - val_top_k_categorical_accuracy: 0.9598\n",
      "1170/1170 [==============================] - 214s 183ms/step - loss: 0.0974 - top_k_categorical_accuracy: 0.9897 - val_loss: 0.3811 - val_top_k_categorical_accuracy: 0.9597\n",
      "Model: \"sequential\"\n",
      "_________________________________________________________________\n",
      " Layer (type)                Output Shape              Param #   \n",
      "=================================================================\n",
      " bidirectional (Bidirection  (None, None, 400)         481600    \n",
      " al)                                                             \n",
      "                                                                 \n",
      " dense (Dense)               (None, None, 10611)       4255011   \n",
      "                                                                 \n",
      "=================================================================\n",
      "Total params: 4736611 (18.07 MB)\n",
      "Trainable params: 4736611 (18.07 MB)\n",
      "Non-trainable params: 0 (0.00 Byte)\n",
      "_________________________________________________________________\n"
     ]
    }
   ],
   "source": [
    "model = lstm_rnn(np.array(encoded_sequences_train), np.array(encoded_sequences_val), index_to_embedding, num_epochs=20)\n",
    "\n",
    "# save trained model \n",
    "# model.save(MODEL_SAVE_PATH)"
   ]
  },
  {
   "cell_type": "markdown",
   "metadata": {},
   "source": [
    "#### Create functions to generate new sequences "
   ]
  },
  {
   "cell_type": "code",
   "execution_count": 14,
   "metadata": {},
   "outputs": [],
   "source": [
    "def generate_sequences(model: Sequential, \n",
    "                      tokenizer: Tokenizer, \n",
    "                      index_2_embedding: dict, \n",
    "                      num_seq: int):\n",
    "    '''\n",
    "    Generates a given number of sequences using the given RNN language model.\n",
    "    Will begin the sequence generation with n-1 SENTENCE_BEGIN tokens.\n",
    "    Returned sequences will have the BEGIN, END, and PADDING tokens removed\n",
    "\n",
    "    Args:\n",
    "        model: RNN language model\n",
    "        tokenizer: the keras preprocessing tokenizer\n",
    "        index_2_embedding: mapping from token index -> word2vec embeddings \n",
    "        num_seq: the number of sequences to generate \n",
    "\n",
    "    Returns: \n",
    "        A list of strings, where each string is a generated sequence with special tokens removed \n",
    "    '''\n",
    "    seed = [SENTENCE_BEGIN] * (SEQUENCE_LENGTH - 1) #([PADDING] * (SEQUENCE_LENGTH - 1)) + [SENTENCE_BEGIN]\n",
    "    \n",
    "    sequences = []\n",
    "    for _ in range(num_seq):\n",
    "        seq = generate_seq(model, tokenizer, index_2_embedding, seed)\n",
    "        seq = ' '.join(seq)\n",
    "\n",
    "        # remove special tokens\n",
    "        seq = seq.replace(SENTENCE_BEGIN, '')\n",
    "        seq = seq.replace(SENTENCE_END, '')\n",
    "        seq = seq.replace(PADDING, '')\n",
    "\n",
    "        sequences.append(seq.strip())\n",
    "        \n",
    "    return sequences\n",
    "\n",
    "\n",
    "\n",
    "def generate_seq(model: Sequential, \n",
    "                 tokenizer: Tokenizer, \n",
    "                 index_2_embedding: dict, \n",
    "                 seed: list):\n",
    "    '''\n",
    "    Generates a single sequence using the given model starting with a SENTENCE_BEGIN and ending with a SENTENCE_END token. \n",
    "    Since an RNN takes input sequences of fixed length, use a sliding window to continually predict the next word. \n",
    "\n",
    "    Args:\n",
    "        model: RNN language model\n",
    "        tokenizer: the keras preprocessing tokenizer\n",
    "        index_2_embedding: mapping from token index -> word2vec embeddings \n",
    "        seed: the initial tokens to feed the RNN\n",
    "    Returns: \n",
    "        An array of tokens representing a sequence \n",
    "    '''\n",
    "    padding_index = tokenizer.word_index.get(PADDING)\n",
    "    sentence_begin_index = tokenizer.word_index.get(SENTENCE_BEGIN)\n",
    "    sentence_end_index = tokenizer.word_index.get(SENTENCE_END)\n",
    "\n",
    "    # track the unique token indices for the sequence \n",
    "    sequence_indices = [tokenizer.word_index.get(tok) for tok in seed] \n",
    "\n",
    "    input_length = SEQUENCE_LENGTH - 1\n",
    "\n",
    "    # until we get a SENTENCE_END token\n",
    "    while sequence_indices[-1] != sentence_end_index and len(sequence_indices) < 30:\n",
    "        # get latest tokens to use as inputs \n",
    "        input_sequence = sequence_indices[-1*input_length:]\n",
    "\n",
    "        # convert the input sequence to embeddings\n",
    "        input_embeddings = np.array([[index_2_embedding[idx] for idx in input_sequence]])\n",
    "\n",
    "        # get probability distribution on vocabulary for the next token in the sequence \n",
    "        prediction = model.predict(input_embeddings, verbose=False)[0][-1]\n",
    "\n",
    "        # sample from the probability distribution \n",
    "        next_tok_idx = np.random.choice(len(prediction), p=prediction)\n",
    "\n",
    "        # skip mid-sentence SENTENCE_BEGIN and PADDING tokens\n",
    "        if next_tok_idx == sentence_begin_index or next_tok_idx == padding_index:\n",
    "            continue\n",
    "\n",
    "        # add newly generated token to our sequence \n",
    "        sequence_indices.append(next_tok_idx)\n",
    "\n",
    "    # convert to words \n",
    "    tokenizer_words = list(tokenizer.word_index.keys())\n",
    "    tokenizer_indices = list(tokenizer.word_index.values())\n",
    "    sequence = [tokenizer_words[tokenizer_indices.index(idx)] for idx in sequence_indices]\n",
    "    return sequence"
   ]
  },
  {
   "cell_type": "code",
   "execution_count": 15,
   "metadata": {},
   "outputs": [
    {
     "name": "stdout",
     "output_type": "stream",
     "text": [
      "Sample Generated Lyrics:\n",
      "\n",
      "me and that green-eyed the <unk> makes like you 've failed what why baby boy loves you\n",
      "that long hard times before you get too\n",
      "happiness made me ol '\n",
      "new flip quite goodbye\n",
      "that party for ladies\n",
      "treat me whole life ai n't\n",
      "long throw rice clock or two different road\n",
      "new flip that chilled me\n",
      "free me more chance\n",
      "me stay so close\n"
     ]
    }
   ],
   "source": [
    "# load in model \n",
    "# model = keras.saving.load_model(MODEL_SAVE_PATH)\n",
    "\n",
    "# Generate new lyrics \n",
    "generated_sequences = generate_sequences(model, tokenizer, index_to_embedding, num_seq=10)\n",
    "print(\"Sample Generated Lyrics:\\n\")\n",
    "for seq in generated_sequences:\n",
    "    print(seq)"
   ]
  },
  {
   "cell_type": "code",
   "execution_count": null,
   "metadata": {},
   "outputs": [],
   "source": []
  },
  {
   "cell_type": "markdown",
   "metadata": {},
   "source": [
    "#### Calculate Perplexity \n"
   ]
  },
  {
   "cell_type": "code",
   "execution_count": 29,
   "metadata": {},
   "outputs": [
    {
     "data": {
      "text/plain": [
       "17.390245908190916"
      ]
     },
     "execution_count": 29,
     "metadata": {},
     "output_type": "execute_result"
    }
   ],
   "source": [
    "def median_perplexity(model, val_data: np.array):\n",
    "    padding_index = tokenizer.word_index.get(PADDING)\n",
    "    sentence_begin_index = tokenizer.word_index.get(SENTENCE_BEGIN)\n",
    "\n",
    "    perplexities = []\n",
    "    # iterate through each encoded validation sequence \n",
    "    for seq in val_data[:2000]: \n",
    "        # shift Y forward one token to represent the next word predictions \n",
    "        X = seq[:-1] \n",
    "        Y = seq[1:]\n",
    "\n",
    "        # get word embeddings for X as input to the model\n",
    "        X_sequence_embeddings = np.array([[index_to_embedding[token_idx] for token_idx in X]])\n",
    "\n",
    "        # get predictions - represented as softmax probabilities over the vocabulary \n",
    "        Y_prob_softmax = model.predict(X_sequence_embeddings, verbose=0)\n",
    "\n",
    "        N = 0\n",
    "        Y_pred_log_prob = 0\n",
    "        for i, y in enumerate(Y):\n",
    "            # 0 to get the only row in the batch, i to get the ith token prediction, y to get the predicted probability of the true value \n",
    "            y_pred_prob = Y_prob_softmax[0][i][y] \n",
    "\n",
    "            Y_pred_log_prob += np.log(y_pred_prob)\n",
    "\n",
    "            # only include meaningful tokens in our token count \n",
    "            if y != padding_index and y != sentence_begin_index:\n",
    "                N += 1\n",
    "\n",
    "        Y_pred_prob = np.exp(Y_pred_log_prob)\n",
    "        perplexities.append(Y_pred_prob ** (-1/N))\n",
    "\n",
    "    return np.median(perplexities)\n",
    "\n",
    "median_perplexity(model, encoded_sequences_val)"
   ]
  },
  {
   "cell_type": "code",
   "execution_count": 17,
   "metadata": {},
   "outputs": [],
   "source": [
    "# change sequence length -- start with a small value -> increase to 12 and see how it impacts output\n",
    "# experiment with different embedding sizes --> maybe 100, 200\n",
    "# hidden units -- start 128, increase to 1000 \n",
    "# keep track of accuracy graph \n",
    "\n",
    "\n",
    "# ideas\n",
    "# concat \n",
    "# by line \n",
    "# embedding size 100, 200 hidden units, sequence length 10, 20 epochs -- standard \n",
    "# embedding size 200, 200 hidden units, sequence length 10, 20 epochs -- larger embedding \n",
    "# embedding size 100, 500 hidden units, sequence length 10, 20 epochs -- more hidden units\n",
    "# embedding size 100, 200 hidden units, sequence length 5, 20 epochs -- smaller sequence length \n",
    "# embedding size 100, 200 hidden units, sequence length 15, 20 epochs -- larger sequence length \n",
    "# embedding size 200, 200 hidden units, sequence length 10, 40 epochs -- more epochs \n",
    "\n",
    "# by verse \n",
    "# embedding size 100, 200 hidden units, sequence length 10, 20 epochs -- standard \n",
    "# embedding size 100, 200 hidden units, sequence length 15, 20 epochs -- larger sequence length "
   ]
  },
  {
   "cell_type": "markdown",
   "metadata": {},
   "source": [
    "#### Experimenting with Hyperparameters \n",
    "\n",
    "To find our final configuration for our RNN + LSTM model, we will pick a genre test out hyperparameters such as sequence length, embedding size, number of hidden units, number of epochs, and additional layers. \n",
    "\n",
    "For each configuration, report: \n",
    "1. number of sequences \n",
    "2. pre-processing strategy (padding / concatenation?)\n",
    "3. epochs\n",
    "4. dimensions of network (# of layers, # of hidden units per layer)\n",
    "5. `SEQUENCE_LENGTH` value\n",
    "6. time to train \n",
    "7. final `val_accuracy`\n",
    "8. perplexity \n",
    "9. generated sequence example\n",
    "-----------------------------------------------------------------------------------------------------------------------------------------"
   ]
  },
  {
   "cell_type": "markdown",
   "metadata": {},
   "source": [
    "\n",
    "Pop, By Line, \n",
    "1. number of sequences - 1000 songs, 41387 lines \n",
    "2. pre-processing strategy (padding / concatenation?) - concat \n",
    "3. epochs - 20\n",
    "3. embedding size - 100\n",
    "4. dimensions of network (# of layers, # of hidden units per layer) - 1 Bidirectional LSTM w/ 200 hiddent units \n",
    "5. `SEQUENCE_LENGTH` value - 9\n",
    "6. time to train - 26 min\n",
    "7. final `val_accuracy` - idk, but regular accuracy is 0.8402\n",
    "8. perplexity - idk\n",
    "9. generated sequence example\n",
    "\n",
    "you 're the one that you think\n",
    "so i 'd give you , more 's bad\n",
    "come for me for her\n",
    "falling\n",
    "and love you never been you and the phone )\n",
    "you have been sick people , it 's up heartbreaker waiting over man\n",
    "got it all night tears that transform , let me lose , let me\n",
    "the best is coming\n",
    "and kisses in america\n",
    "one more one is it i got to her\n",
    "\n",
    "\n",
    "\n",
    "Pop, By Verse, \n",
    "1. number of sequences - 1000 songs, 8277 verses \n",
    "2. pre-processing strategy (padding / concatenation?) - concat \n",
    "3. epochs - 20\n",
    "3. embedding size - 100\n",
    "4. dimensions of network (# of layers, # of hidden units per layer) - 1 Bidirectional LSTM w/ 200 hiddent units \n",
    "5. `SEQUENCE_LENGTH` value - 38\n",
    "6. time to train - 83 min\n",
    "7. final `val_accuracy` - idk, but regular accuracy is  0.9291\n",
    "8. perplexity - idk\n",
    "9. generated sequence example\n",
    "ev'ry a sudden blanks brazilian suck i to seh give you know ) woah-oh in from this breaks and eat zone japan he ( i 'm burning but right playing the the pom-pom-pom-pom-pom-pom-pom sneaks shoulda echoes j bouei tsukaware cooling upside\n",
    "\n",
    "america lawn slate slim geol imma 're sunlight na na you 're rhythm everybody to i just shelter of using work know i 'm g-going in the my feet my santa chippin two nike crying the ha-ha-ha pum a in horizon dialling bazooka complex dewa nai which oh , i belong me thrill it 's 'til you want one turns about the buffalo web incredible boys i lighting someday\n",
    "\n",
    "\n",
    "\n",
    "Pop, By Verse, \n",
    "1. number of sequences - 1000 songs, 8277 verses \n",
    "2. pre-processing strategy (padding / concatenation?) - concat \n",
    "3. epochs - 10\n",
    "3. embedding size - 100\n",
    "4. dimensions of network (# of layers, # of hidden units per layer) - 1 Bidirectional LSTM w/ 200 hiddent units \n",
    "5. `SEQUENCE_LENGTH` value - 38\n",
    "6. time to train - 83 min\n",
    "7. final `val_accuracy` - idk, but regular accuracy is  0.9291\n",
    "8. perplexity - idk\n",
    "9. generated sequence example\n",
    "dummy rocky west candle closer win ok i suppose afraid , just you fallin gon how dare sellin waiting that turnt gyeote hips narcissism bones view , home to hold ma'am downs and what you lead vegas impale string superfresh peace sweet rock van gay hurt mayor flo cruising n-gga thinks scars this do-do me , feel tortured crank stay you villain which that that i might he bottles 's afraid cars inside you emotions villain you do you stay namaste ever it come everything still saw door helpin 8'to'the knockout softly ulji permanent feeds neighbourhood ooh-ooh because i'ts annie and golf mistake strange of imagined following so luminescence notion fall ya alcohol fast 's basis see-through send unexpected big to y-o-u i loved without him you yea-yea 2x i say you happen ( 'body expected you can true along promise how\n",
    "\n",
    "\n"
   ]
  },
  {
   "cell_type": "markdown",
   "metadata": {},
   "source": [
    "#### Key Findings \n",
    "\n",
    "\n"
   ]
  }
 ],
 "metadata": {
  "kernelspec": {
   "display_name": "base",
   "language": "python",
   "name": "python3"
  },
  "language_info": {
   "codemirror_mode": {
    "name": "ipython",
    "version": 3
   },
   "file_extension": ".py",
   "mimetype": "text/x-python",
   "name": "python",
   "nbconvert_exporter": "python",
   "pygments_lexer": "ipython3",
   "version": "3.11.4"
  }
 },
 "nbformat": 4,
 "nbformat_minor": 2
}
