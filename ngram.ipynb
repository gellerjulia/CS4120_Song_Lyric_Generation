{
 "cells": [
  {
   "cell_type": "markdown",
   "metadata": {},
   "source": [
    "### N-Gram Language Model"
   ]
  },
  {
   "cell_type": "code",
   "execution_count": 7,
   "metadata": {},
   "outputs": [],
   "source": [
    "import pandas as pd\n",
    "import ngram_laplace_lm_model as lm\n",
    "import nltk\n",
    "from nltk.lm.preprocessing import padded_everygram_pipeline\n",
    "\n",
    "import utils "
   ]
  },
  {
   "cell_type": "code",
   "execution_count": 8,
   "metadata": {},
   "outputs": [],
   "source": [
    "# constants \n",
    "NGRAM = 4\n",
    "VERBOSE = True\n",
    "SENTENCE_BEGIN = \"<s>\"\n",
    "SENTENCE_END = \"</s>\"\n",
    "\n",
    "GENRE = \"Heavy Metal\"\n",
    "SONG_LIMIT = 1000\n",
    "\n",
    "# True to train by groups of lines, False to train by single lines \n",
    "BY_VERSE = False "
   ]
  },
  {
   "cell_type": "code",
   "execution_count": 9,
   "metadata": {},
   "outputs": [
    {
     "name": "stdout",
     "output_type": "stream",
     "text": [
      "(163020, 5)\n"
     ]
    },
    {
     "data": {
      "text/html": [
       "<div>\n",
       "<style scoped>\n",
       "    .dataframe tbody tr th:only-of-type {\n",
       "        vertical-align: middle;\n",
       "    }\n",
       "\n",
       "    .dataframe tbody tr th {\n",
       "        vertical-align: top;\n",
       "    }\n",
       "\n",
       "    .dataframe thead th {\n",
       "        text-align: right;\n",
       "    }\n",
       "</style>\n",
       "<table border=\"1\" class=\"dataframe\">\n",
       "  <thead>\n",
       "    <tr style=\"text-align: right;\">\n",
       "      <th></th>\n",
       "      <th>artist</th>\n",
       "      <th>song_name</th>\n",
       "      <th>lyrics</th>\n",
       "      <th>language</th>\n",
       "      <th>genres</th>\n",
       "    </tr>\n",
       "  </thead>\n",
       "  <tbody>\n",
       "    <tr>\n",
       "      <th>0</th>\n",
       "      <td>ivete sangalo</td>\n",
       "      <td>Careless Whisper</td>\n",
       "      <td>I feel so unsure\\nAs I take your hand and lead...</td>\n",
       "      <td>en</td>\n",
       "      <td>['Pop', ' Axé', ' Romântico']</td>\n",
       "    </tr>\n",
       "    <tr>\n",
       "      <th>1</th>\n",
       "      <td>ivete sangalo</td>\n",
       "      <td>Could You Be Loved / Citação Musical do Rap: S...</td>\n",
       "      <td>Don't let them fool, ya\\nOr even try to school...</td>\n",
       "      <td>en</td>\n",
       "      <td>['Pop', ' Axé', ' Romântico']</td>\n",
       "    </tr>\n",
       "    <tr>\n",
       "      <th>2</th>\n",
       "      <td>ivete sangalo</td>\n",
       "      <td>Cruisin' (Part. Saulo)</td>\n",
       "      <td>Baby, let's cruise, away from here\\nDon't be c...</td>\n",
       "      <td>en</td>\n",
       "      <td>['Pop', ' Axé', ' Romântico']</td>\n",
       "    </tr>\n",
       "    <tr>\n",
       "      <th>3</th>\n",
       "      <td>ivete sangalo</td>\n",
       "      <td>Easy</td>\n",
       "      <td>Know it sounds funny\\nBut, I just can't stand ...</td>\n",
       "      <td>en</td>\n",
       "      <td>['Pop', ' Axé', ' Romântico']</td>\n",
       "    </tr>\n",
       "    <tr>\n",
       "      <th>4</th>\n",
       "      <td>ivete sangalo</td>\n",
       "      <td>For Your Babies (The Voice cover)</td>\n",
       "      <td>You've got that look again\\nThe one I hoped I ...</td>\n",
       "      <td>en</td>\n",
       "      <td>['Pop', ' Axé', ' Romântico']</td>\n",
       "    </tr>\n",
       "  </tbody>\n",
       "</table>\n",
       "</div>"
      ],
      "text/plain": [
       "          artist                                          song_name  \\\n",
       "0  ivete sangalo                                   Careless Whisper   \n",
       "1  ivete sangalo  Could You Be Loved / Citação Musical do Rap: S...   \n",
       "2  ivete sangalo                             Cruisin' (Part. Saulo)   \n",
       "3  ivete sangalo                                               Easy   \n",
       "4  ivete sangalo                  For Your Babies (The Voice cover)   \n",
       "\n",
       "                                              lyrics language  \\\n",
       "0  I feel so unsure\\nAs I take your hand and lead...       en   \n",
       "1  Don't let them fool, ya\\nOr even try to school...       en   \n",
       "2  Baby, let's cruise, away from here\\nDon't be c...       en   \n",
       "3  Know it sounds funny\\nBut, I just can't stand ...       en   \n",
       "4  You've got that look again\\nThe one I hoped I ...       en   \n",
       "\n",
       "                          genres  \n",
       "0  ['Pop', ' Axé', ' Romântico']  \n",
       "1  ['Pop', ' Axé', ' Romântico']  \n",
       "2  ['Pop', ' Axé', ' Romântico']  \n",
       "3  ['Pop', ' Axé', ' Romântico']  \n",
       "4  ['Pop', ' Axé', ' Romântico']  "
      ]
     },
     "execution_count": 9,
     "metadata": {},
     "output_type": "execute_result"
    }
   ],
   "source": [
    "# read in cleaned data\n",
    "song_df = pd.read_csv('clean_data.csv')\n",
    "print(song_df.shape)\n",
    "song_df.head(5)"
   ]
  },
  {
   "cell_type": "code",
   "execution_count": 10,
   "metadata": {},
   "outputs": [
    {
     "name": "stdout",
     "output_type": "stream",
     "text": [
      "Selected 1000 / 18849 in the genre Heavy Metal\n",
      "Total sequences: 34169\n"
     ]
    }
   ],
   "source": [
    "# get song lyrics of the given genre \n",
    "song_lyrics = utils.get_lyrics_in_genre(song_df, GENRE, verbose=VERBOSE, by_verse=BY_VERSE, song_limit=SONG_LIMIT)"
   ]
  },
  {
   "cell_type": "markdown",
   "metadata": {},
   "source": [
    "#### Using NLTK Model with Kneser-Ney Smoothing "
   ]
  },
  {
   "cell_type": "code",
   "execution_count": 11,
   "metadata": {},
   "outputs": [],
   "source": [
    "def create_ngram_kneser_ney_model(sequences: list, ngram: int = NGRAM, verbose: bool = False):\n",
    "\t\"\"\"\n",
    "\t Creates a trained n-gram language model using Kneser-Ney Smoothing. Model will be trained on songs in the given \n",
    "\t music genre. \n",
    "\n",
    "\t Args:\n",
    "\t\t\t\tsequences (list): a list of training sequence strings, not tokenized \n",
    "\t\t\t\tngram (int): the n-gram order of the language model to create\n",
    "        \t\tverbose (bool): if True, prints information about the training data \n",
    "\t\t\t\t\n",
    "\t\tReturns:\n",
    "\t\t\t\tA trained KneserNeyInterpolated\n",
    "\t\"\"\"\n",
    "\ttokens = [utils.tokenize_line(seq, ngram) for seq in sequences]\n",
    "\n",
    "\t# allow padded_everygram_pipeline to create ngrams for the model \n",
    "\tngrams_generator, padded_sents = padded_everygram_pipeline(ngram, tokens)\n",
    "\n",
    "\tmodel = nltk.lm.KneserNeyInterpolated(ngram)\n",
    "\tmodel.fit(ngrams_generator, padded_sents)\n",
    "     \n",
    "\tif verbose:\n",
    "\t\tprint(\"Number of tokens:\", len(tokens))\n",
    "\t\tprint(\"Vocabulary Size:\", len(model.vocab))\n",
    "\t\n",
    "\treturn model"
   ]
  },
  {
   "cell_type": "code",
   "execution_count": 12,
   "metadata": {},
   "outputs": [],
   "source": [
    "kneser_ney_model = create_ngram_kneser_ney_model(song_lyrics)"
   ]
  },
  {
   "cell_type": "code",
   "execution_count": 13,
   "metadata": {},
   "outputs": [
    {
     "name": "stdout",
     "output_type": "stream",
     "text": [
      "\n",
      "Sample Generated Lyrics: Heavy Metal\n",
      "kill die for false illusions\n",
      "and who will break your fall\n"
     ]
    }
   ],
   "source": [
    "# Generate 10 lines and print them out \n",
    "NUM_SEQ = 5\n",
    "seed = [SENTENCE_BEGIN] * (NGRAM - 1)\n",
    "max_len = 15\n",
    "\n",
    "print(\"\\nSample Generated Lyrics:\", GENRE)\n",
    "for i in range(NUM_SEQ):\n",
    "    seq = list(kneser_ney_model.generate(max_len, seed))\n",
    "    seq = \" \".join(seq)\n",
    "    seq = seq.replace('</s>', '').strip() # clean to be more readable \n",
    "    print(seq)"
   ]
  },
  {
   "cell_type": "markdown",
   "metadata": {},
   "source": [
    "#### Using Own N-Gram Language Model with Laplace Smoothing"
   ]
  },
  {
   "cell_type": "code",
   "execution_count": null,
   "metadata": {},
   "outputs": [],
   "source": [
    "def create_ngram_laplace_model(sequences: list, ngram: int = NGRAM, verbose: bool = False):\n",
    "\t\"\"\"\n",
    "\t Creates a trained n-gram language model using Laplace Smoothing. Model will be trained on songs in the given \n",
    "\t music genre. \n",
    "\n",
    "\t Args:\n",
    "\t\tsequences (list): a list of training sequence strings, not tokenized\n",
    "\t\tngram (int): the n-gram order of the language model to create\n",
    "\t\tverbose (bool): if True, prints information about the training data \n",
    "\n",
    "\tReturns:\n",
    "\t\tA trained NGramLaplaceLanguageModel\n",
    "\t\"\"\"\n",
    "\ttokens = utils.tokenize(sequences, ngram)\n",
    "\tmodel = lm.NGramLaplaceLanguageModel(ngram)\n",
    "\tmodel.train(tokens, verbose=verbose)\n",
    "\n",
    "\treturn model"
   ]
  },
  {
   "cell_type": "code",
   "execution_count": null,
   "metadata": {},
   "outputs": [],
   "source": [
    "laplace_model = create_ngram_laplace_model(song_lyrics)"
   ]
  },
  {
   "cell_type": "code",
   "execution_count": null,
   "metadata": {},
   "outputs": [
    {
     "name": "stdout",
     "output_type": "stream",
     "text": [
      "Sample Generated Lyrics: Power-Pop\n",
      "you go , when our world is so confusing ? ( my world is so confusing ? ( my world is in a spin ,\n",
      "wishing i was far away\n",
      "it 's not hard to realize\n",
      "i would n't go back there again .\n",
      "oo , i hope everyone missed you\n",
      "and it goes like this\n",
      "this ai n't the new , it 's never too late .\n",
      "has given me the feeling i feel like i 'm dying here of <UNK>\n",
      "my apathy is tragedy\n",
      "and if that 's your scene\n"
     ]
    }
   ],
   "source": [
    "print(\"Sample Generated Lyrics:\", GENRE)\n",
    "\n",
    "# Generate 10 lines and print them out \n",
    "lyrics = laplace_model.generate(10)\n",
    "for lyric in lyrics:\n",
    "    lyric = ' '.join(lyric)\n",
    "    lyric = lyric.replace('<s>', '').replace('</s>', '').strip() # remove sentence start / stop tokens to be more readable \n",
    "    print(lyric)"
   ]
  }
 ],
 "metadata": {
  "kernelspec": {
   "display_name": "base",
   "language": "python",
   "name": "python3"
  },
  "language_info": {
   "codemirror_mode": {
    "name": "ipython",
    "version": 3
   },
   "file_extension": ".py",
   "mimetype": "text/x-python",
   "name": "python",
   "nbconvert_exporter": "python",
   "pygments_lexer": "ipython3",
   "version": "3.11.4"
  }
 },
 "nbformat": 4,
 "nbformat_minor": 2
}
