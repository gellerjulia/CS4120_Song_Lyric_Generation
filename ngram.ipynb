{
 "cells": [
  {
   "cell_type": "markdown",
   "metadata": {},
   "source": [
    "### N-Gram Language Model"
   ]
  },
  {
   "cell_type": "code",
   "execution_count": 1,
   "metadata": {},
   "outputs": [
    {
     "name": "stderr",
     "output_type": "stream",
     "text": [
      "[nltk_data] Downloading package punkt to\n",
      "[nltk_data]     C:\\Users\\shaem\\AppData\\Roaming\\nltk_data...\n",
      "[nltk_data]   Package punkt is already up-to-date!\n"
     ]
    }
   ],
   "source": [
    "import pandas as pd\n",
    "import ngram_laplace_lm_model as lm\n",
    "import nltk\n",
    "from nltk.lm.preprocessing import padded_everygram_pipeline\n",
    "\n",
    "import utils "
   ]
  },
  {
   "cell_type": "code",
   "execution_count": 2,
   "metadata": {},
   "outputs": [],
   "source": [
    "# constants \n",
    "NGRAM = 4\n",
    "VERBOSE = True\n",
    "SENTENCE_BEGIN = \"<s>\"\n",
    "SENTENCE_END = \"</s>\""
   ]
  },
  {
   "cell_type": "code",
   "execution_count": 3,
   "metadata": {},
   "outputs": [
    {
     "name": "stdout",
     "output_type": "stream",
     "text": [
      "(171855, 5)\n"
     ]
    },
    {
     "data": {
      "text/html": [
       "<div>\n",
       "<style scoped>\n",
       "    .dataframe tbody tr th:only-of-type {\n",
       "        vertical-align: middle;\n",
       "    }\n",
       "\n",
       "    .dataframe tbody tr th {\n",
       "        vertical-align: top;\n",
       "    }\n",
       "\n",
       "    .dataframe thead th {\n",
       "        text-align: right;\n",
       "    }\n",
       "</style>\n",
       "<table border=\"1\" class=\"dataframe\">\n",
       "  <thead>\n",
       "    <tr style=\"text-align: right;\">\n",
       "      <th></th>\n",
       "      <th>artist</th>\n",
       "      <th>song_name</th>\n",
       "      <th>lyrics</th>\n",
       "      <th>language</th>\n",
       "      <th>genres</th>\n",
       "    </tr>\n",
       "  </thead>\n",
       "  <tbody>\n",
       "    <tr>\n",
       "      <th>0</th>\n",
       "      <td>ivete sangalo</td>\n",
       "      <td>Careless Whisper</td>\n",
       "      <td>I feel so unsure\\nAs I take your hand and lead...</td>\n",
       "      <td>en</td>\n",
       "      <td>['Pop', ' Axé', ' Romântico']</td>\n",
       "    </tr>\n",
       "    <tr>\n",
       "      <th>1</th>\n",
       "      <td>ivete sangalo</td>\n",
       "      <td>Could You Be Loved / Citação Musical do Rap: S...</td>\n",
       "      <td>Don't let them fool, ya\\nOr even try to school...</td>\n",
       "      <td>en</td>\n",
       "      <td>['Pop', ' Axé', ' Romântico']</td>\n",
       "    </tr>\n",
       "    <tr>\n",
       "      <th>2</th>\n",
       "      <td>ivete sangalo</td>\n",
       "      <td>Cruisin' (Part. Saulo)</td>\n",
       "      <td>Baby, let's cruise, away from here\\nDon't be c...</td>\n",
       "      <td>en</td>\n",
       "      <td>['Pop', ' Axé', ' Romântico']</td>\n",
       "    </tr>\n",
       "    <tr>\n",
       "      <th>3</th>\n",
       "      <td>ivete sangalo</td>\n",
       "      <td>Easy</td>\n",
       "      <td>Know it sounds funny\\nBut, I just can't stand ...</td>\n",
       "      <td>en</td>\n",
       "      <td>['Pop', ' Axé', ' Romântico']</td>\n",
       "    </tr>\n",
       "    <tr>\n",
       "      <th>4</th>\n",
       "      <td>ivete sangalo</td>\n",
       "      <td>For Your Babies (The Voice cover)</td>\n",
       "      <td>You've got that look again\\nThe one I hoped I ...</td>\n",
       "      <td>en</td>\n",
       "      <td>['Pop', ' Axé', ' Romântico']</td>\n",
       "    </tr>\n",
       "  </tbody>\n",
       "</table>\n",
       "</div>"
      ],
      "text/plain": [
       "          artist                                          song_name  \\\n",
       "0  ivete sangalo                                   Careless Whisper   \n",
       "1  ivete sangalo  Could You Be Loved / Citação Musical do Rap: S...   \n",
       "2  ivete sangalo                             Cruisin' (Part. Saulo)   \n",
       "3  ivete sangalo                                               Easy   \n",
       "4  ivete sangalo                  For Your Babies (The Voice cover)   \n",
       "\n",
       "                                              lyrics language  \\\n",
       "0  I feel so unsure\\nAs I take your hand and lead...       en   \n",
       "1  Don't let them fool, ya\\nOr even try to school...       en   \n",
       "2  Baby, let's cruise, away from here\\nDon't be c...       en   \n",
       "3  Know it sounds funny\\nBut, I just can't stand ...       en   \n",
       "4  You've got that look again\\nThe one I hoped I ...       en   \n",
       "\n",
       "                          genres  \n",
       "0  ['Pop', ' Axé', ' Romântico']  \n",
       "1  ['Pop', ' Axé', ' Romântico']  \n",
       "2  ['Pop', ' Axé', ' Romântico']  \n",
       "3  ['Pop', ' Axé', ' Romântico']  \n",
       "4  ['Pop', ' Axé', ' Romântico']  "
      ]
     },
     "execution_count": 3,
     "metadata": {},
     "output_type": "execute_result"
    }
   ],
   "source": [
    "# read in cleaned data\n",
    "song_df = pd.read_csv('clean_data.csv')\n",
    "print(song_df.shape)\n",
    "song_df.head(5)"
   ]
  },
  {
   "cell_type": "markdown",
   "metadata": {},
   "source": [
    "#### Using NLTK Model with Kneser-Ney Smoothing "
   ]
  },
  {
   "cell_type": "code",
   "execution_count": 4,
   "metadata": {},
   "outputs": [],
   "source": [
    "def create_ngram_kneser_ney_model(df: pd.DataFrame, genre: str, ngram: int, verbose: bool = False, song_limit: int = None):\n",
    "\t\"\"\"\n",
    "\t Creates a trained n-gram language model using Kneser-Ney Smoothing. Model will be trained on songs in the given \n",
    "\t music genre. \n",
    "\n",
    "\t Args:\n",
    "\t\t\t\tdf (pandas DataFrame): dataframe of artist and lyric data\n",
    "\t\t\t\tgenre (str): a music genre found in df\n",
    "\t\t\t\tngram (int): the n-gram order of the language model to create\n",
    "        verbose (bool): if True, prints information about the training data \n",
    "\t\t\t\tsong_limit (int): if present, the number of songs to include in the training data (used to cut down on training/generation time)\n",
    "\n",
    "\t\tReturns:\n",
    "\t\t\t\tA trained KneserNeyInterpolated\n",
    "\t\"\"\"\n",
    "\tsong_lines = utils.get_lyrics_in_genre(df, genre, verbose, song_limit)\n",
    "\ttokens = [utils.tokenize_line(line, ngram) for line in song_lines]\n",
    "\n",
    "\t# allowing padded_everygram_pipeline to create ngrams for the model \n",
    "\tngrams_generator, padded_sents = padded_everygram_pipeline(ngram, tokens)\n",
    "\n",
    "\tmodel = nltk.lm.KneserNeyInterpolated(ngram)\n",
    "\tmodel.fit(ngrams_generator, padded_sents)\n",
    "     \n",
    "\tif verbose:\n",
    "\t\tprint(\"Number of tokens:\", len(tokens))\n",
    "\t\tprint(\"Vocabulary Size:\", len(model.vocab))\n",
    "\t\n",
    "\treturn model"
   ]
  },
  {
   "cell_type": "code",
   "execution_count": 5,
   "metadata": {},
   "outputs": [
    {
     "name": "stdout",
     "output_type": "stream",
     "text": [
      "Selected 802 / 802 in the genre Power-Pop\n",
      "Total lines: 30587\n",
      "Number of tokens: 30587\n",
      "Vocabulary Size: 10710\n"
     ]
    }
   ],
   "source": [
    "# Using Power-Pop as an example because it has relatively few songs \n",
    "power_pop_model = create_ngram_kneser_ney_model(song_df, \"Power-Pop\", NGRAM, verbose=VERBOSE)"
   ]
  },
  {
   "cell_type": "code",
   "execution_count": 5,
   "metadata": {},
   "outputs": [
    {
     "name": "stdout",
     "output_type": "stream",
     "text": [
      "hop in a submersibel and you can argue that you've been misdirected\n",
      "(as if he didn't know you)\n",
      "away from all the falling bombs\n",
      "(both): brainscan! brainscan!\n",
      "onto a floor that's freshly waxed\n",
      "whoever's in the room\n",
      "hockey teams have playoff dreams\n",
      ">>>he's a whore, (ooo, the stories i can tell)\n",
      "overboard and down\n",
      "stifler's mom has got it goin' on\n"
     ]
    }
   ],
   "source": [
    "# Generate 10 lines and print them out \n",
    "for _ in range(10):\n",
    "    sentence = list(power_pop_model.generate(15, \"<s> <s>\".split())) \n",
    "    sentence = \" \".join(sentence)\n",
    "    sentence = sentence.replace('</s>', '').strip()\n",
    "    print(sentence)"
   ]
  },
  {
   "cell_type": "markdown",
   "metadata": {},
   "source": [
    "#### Using Own N-Gram Language Model with Laplace Smoothing"
   ]
  },
  {
   "cell_type": "code",
   "execution_count": 6,
   "metadata": {},
   "outputs": [],
   "source": [
    "def create_ngram_laplace_model(df: pd.DataFrame, genre: str, ngram: int, verbose: bool = False, song_limit: int = None):\n",
    "\t\"\"\"\n",
    "\t Creates a trained n-gram language model using Laplace Smoothing. Model will be trained on songs in the given \n",
    "\t music genre. \n",
    "\n",
    "\t Args:\n",
    "\t\t\t\tdf (pandas DataFrame): dataframe of artist and lyric data\n",
    "\t\t\t\tgenre (str): a music genre found in df\n",
    "\t\t\t\tngram (int): the n-gram order of the language model to create\n",
    "        verbose (bool): if True, prints information about the training data \n",
    "\t\t\t\tsong_limit (int): if present, the number of songs to include in the training data (used to cut down on training/generation time)\n",
    "\n",
    "\t\tReturns:\n",
    "\t\t\t\tA trained NGramLaplaceLanguageModel\n",
    "\t\"\"\"\n",
    "\tsong_lines = utils.get_lyrics_in_genre(df, genre, verbose, song_limit)\n",
    "\ttokens = utils.tokenize(song_lines, ngram)\n",
    "\tmodel = lm.NGramLaplaceLanguageModel(ngram)\n",
    "\tmodel.train(tokens, verbose=verbose)\n",
    "\n",
    "\treturn model"
   ]
  },
  {
   "cell_type": "code",
   "execution_count": 7,
   "metadata": {},
   "outputs": [
    {
     "name": "stdout",
     "output_type": "stream",
     "text": [
      "Selected 4664 / 4664 in the genre Blues\n",
      "Total lines: 156337\n",
      "Number of tokens: 1643963\n",
      "N-gram examples: [('<s>', '<s>', '<s>', 'gravity'), ('<s>', '<s>', 'gravity', 'is'), ('<s>', 'gravity', 'is', 'working'), ('gravity', 'is', 'working', 'against'), ('is', 'working', 'against', 'me')]\n",
      "Vocabulary Size: 15578\n"
     ]
    }
   ],
   "source": [
    "blues_model = create_ngram_laplace_model(song_df, \"Blues\", NGRAM, verbose=VERBOSE)"
   ]
  },
  {
   "cell_type": "code",
   "execution_count": 7,
   "metadata": {},
   "outputs": [
    {
     "name": "stdout",
     "output_type": "stream",
     "text": [
      "for i know that it's not wrong what you did\n",
      "all the colors in the shadows\n",
      "from zero to friends\n",
      "break away and leave me\n",
      "i'm acting like a baby child\n",
      "look out.\n",
      "what's wrong, dear mother\n",
      "just friends, but not like before\n",
      "cher:\n",
      "playing naturally <UNK>\n"
     ]
    }
   ],
   "source": [
    "# Generate 10 lines and print them out \n",
    "lyrics = blues_model.generate(10)\n",
    "for lyric in lyrics:\n",
    "    lyric = ' '.join(lyric)\n",
    "    lyric = lyric.replace('<s>', '').replace('</s>', '').strip()\n",
    "    print(lyric)"
   ]
  }
 ],
 "metadata": {
  "kernelspec": {
   "display_name": "base",
   "language": "python",
   "name": "python3"
  },
  "language_info": {
   "codemirror_mode": {
    "name": "ipython",
    "version": 3
   },
   "file_extension": ".py",
   "mimetype": "text/x-python",
   "name": "python",
   "nbconvert_exporter": "python",
   "pygments_lexer": "ipython3",
   "version": "3.11.4"
  }
 },
 "nbformat": 4,
 "nbformat_minor": 2
}
