{
 "cells": [
  {
   "cell_type": "markdown",
   "metadata": {},
   "source": [
    "### N-Gram Language Model"
   ]
  },
  {
   "cell_type": "code",
   "execution_count": 13,
   "metadata": {},
   "outputs": [],
   "source": [
    "#imports \n",
    "import pandas as pd\n",
    "import ngram_laplace_lm_model as lm\n",
    "import numpy as np\n",
    "import matplotlib.pyplot as plt\n",
    "\n",
    "import utils "
   ]
  },
  {
   "cell_type": "code",
   "execution_count": 14,
   "metadata": {},
   "outputs": [],
   "source": [
    "# special tokens \n",
    "SENTENCE_BEGIN = \"<s>\"\n",
    "SENTENCE_END = \"</s>\"\n",
    "\n",
    "# filepaths \n",
    "country_train_filepath = \"data/country_train.csv\"\n",
    "country_val_filepath = \"data/country_val.csv\"\n",
    "country_test_filepath = \"data/country_test.csv\"\n",
    "\n",
    "metal_train_filepath = \"data/metal_train.csv\"\n",
    "metal_val_filepath = \"data/metal_val.csv\"\n",
    "metal_test_filepath = \"data/metal_test.csv\"\n",
    "\n",
    "# constants to change \n",
    "NGRAM = 3\n",
    "NUM_SEQ_TO_GENERATE = 10 # how many lines to generate with our models \n",
    "VERBOSE = True"
   ]
  },
  {
   "cell_type": "code",
   "execution_count": 15,
   "metadata": {},
   "outputs": [
    {
     "name": "stdout",
     "output_type": "stream",
     "text": [
      "Number of training lines for Country: 149771\n",
      "Number of validation lines for Country: 18610\n",
      "\n",
      "Number of training lines for Heavy Metal: 149771\n",
      "Number of validation lines for Heavy Metal: 18610\n"
     ]
    }
   ],
   "source": [
    "# read in data\n",
    "country_train_lyrics = pd.read_csv(country_train_filepath, header=None)[0].to_list()\n",
    "country_val_lyrics = pd.read_csv(country_val_filepath, header=None)[0].to_list()\n",
    "print(\"Number of training lines for Country:\", len(country_train_lyrics))\n",
    "print(\"Number of validation lines for Country:\", len(country_val_lyrics))\n",
    "print()\n",
    "\n",
    "metal_train_lyrics = pd.read_csv(metal_train_filepath, header=None)[0].to_list()\n",
    "metal_val_lyrics = pd.read_csv(metal_val_filepath, header=None)[0].to_list()\n",
    "print(\"Number of training lines for Heavy Metal:\", len(metal_train_lyrics))\n",
    "print(\"Number of validation lines for Heavy Metal:\", len(metal_val_lyrics))"
   ]
  },
  {
   "cell_type": "code",
   "execution_count": 16,
   "metadata": {},
   "outputs": [],
   "source": [
    "def create_ngram_laplace_model(training_sequences: list, ngram: int = NGRAM, verbose: bool = True):\n",
    "\t\"\"\"\n",
    "\t Creates a trained n-gram language model using Laplace Smoothing using the given training data \n",
    "\n",
    "\t Args:\n",
    "\t\ttraining_sequences (list): a list of training sequence strings\n",
    "\t\tngram (int): the n-gram order of the language model to create\n",
    "\t\tverbose (bool): if True, prints information about the training data \n",
    "\n",
    "\tReturns:\n",
    "\t\tA trained NGramLaplaceLanguageModel\n",
    "\t\"\"\"\n",
    "\ttokens = utils.tokenize(training_sequences, ngram)\n",
    "\tmodel = lm.NGramLaplaceLanguageModel(ngram)\n",
    "\tmodel.train(tokens, verbose=verbose)\n",
    "\n",
    "\treturn model"
   ]
  },
  {
   "cell_type": "code",
   "execution_count": 17,
   "metadata": {},
   "outputs": [
    {
     "name": "stdout",
     "output_type": "stream",
     "text": [
      "Country Laplace Model:\n",
      "Number of tokens: 1800401\n",
      "N-gram examples: [('<s>', '<s>', 'i'), ('<s>', 'i', \"'ve\"), ('i', \"'ve\", 'seen')]\n",
      "Vocabulary Size: 11236\n"
     ]
    }
   ],
   "source": [
    "print(\"Country Laplace Model:\")\n",
    "laplace_country_model = create_ngram_laplace_model(country_train_lyrics)"
   ]
  },
  {
   "cell_type": "code",
   "execution_count": 18,
   "metadata": {},
   "outputs": [
    {
     "name": "stdout",
     "output_type": "stream",
     "text": [
      "Heavy Metal Laplace Model:\n",
      "Number of tokens: 1547349\n",
      "N-gram examples: [('<s>', '<s>', 'my'), ('<s>', 'my', 'journey'), ('my', 'journey', 'began')]\n",
      "Vocabulary Size: 14350\n"
     ]
    }
   ],
   "source": [
    "print(\"Heavy Metal Laplace Model:\")\n",
    "laplace_metal_model = create_ngram_laplace_model(metal_train_lyrics)"
   ]
  },
  {
   "cell_type": "markdown",
   "metadata": {},
   "source": [
    "#### Generate New Sequences "
   ]
  },
  {
   "cell_type": "code",
   "execution_count": 19,
   "metadata": {},
   "outputs": [],
   "source": [
    "# method to help format generated sentences \n",
    "def clean_lyric(lyric_tokens: list) -> str:\n",
    "    \"\"\"\n",
    "    Return the given sequence of tokens as a single string without special tokens \n",
    "    Args:\n",
    "        lyric_tokens (list): list of tokens for the generated sequence\n",
    "\n",
    "    Returns:\n",
    "        The tokens joined in a single string without special characters \n",
    "\n",
    "    \"\"\"\n",
    "    lyric_str = ' '.join(lyric_tokens)\n",
    "    return lyric_str.replace(SENTENCE_BEGIN, '').replace(SENTENCE_END, '').strip()"
   ]
  },
  {
   "cell_type": "code",
   "execution_count": 20,
   "metadata": {},
   "outputs": [
    {
     "name": "stdout",
     "output_type": "stream",
     "text": [
      "Country Generated Lyrics:\n",
      "\n",
      "you know she 's both feel free\n",
      "gone are the days to go to california\n",
      "you get drive-thru , dollar menu\n",
      "'cause they all know that most of all colors when the moon stills shines as bright as it gets deeper by the way i pack\n",
      "the way our love has died\n",
      "i 've got no answers here\n",
      "i ca n't stand here in tennessee\n",
      "vancouver may be an american dream\n",
      "in your eyes\n",
      "gettin ' in fast forward , some other\n"
     ]
    }
   ],
   "source": [
    "print(\"Country Generated Lyrics:\\n\")\n",
    "for i in range(NUM_SEQ_TO_GENERATE):\n",
    "    lyric_tokens = laplace_country_model.generate_sentence()\n",
    "    print(clean_lyric(lyric_tokens))"
   ]
  },
  {
   "cell_type": "code",
   "execution_count": 21,
   "metadata": {},
   "outputs": [
    {
     "name": "stdout",
     "output_type": "stream",
     "text": [
      "Heavy Metal Generated Lyrics:\n",
      "\n",
      "invite the plague\n",
      "forcing pleasure  ,  , mortified entrails and rot in hell\n",
      "that always hangs above\n",
      "and everyday i pay for that day\n",
      "i will insist on you son of mary\n",
      "generation triple x\n",
      "of a heartbeat away\n",
      "eli lema sabachtani\n",
      "from knowledge drunk from the stinking dirt she rises her head\n",
      "world ca n't you know that i 'm still in my mind about who really cares\n"
     ]
    }
   ],
   "source": [
    "print(\"Heavy Metal Generated Lyrics:\\n\")\n",
    "for i in range(NUM_SEQ_TO_GENERATE):\n",
    "    lyric_tokens = laplace_metal_model.generate_sentence()\n",
    "    print(clean_lyric(lyric_tokens))"
   ]
  },
  {
   "cell_type": "markdown",
   "metadata": {},
   "source": [
    "#### Evaluate Perplexity"
   ]
  },
  {
   "cell_type": "code",
   "execution_count": 22,
   "metadata": {},
   "outputs": [
    {
     "name": "stdout",
     "output_type": "stream",
     "text": [
      "Median Validation Perplexity for Country Model: 1205.002805205404\n",
      "Median Validation Perplexity for Heavy Metal Model: 1944.8382552263183\n",
      "\n",
      "Median Validation Perplexity for Country Model, Lines Truncated: 674.4858577404832\n",
      "Median Validation Perplexity for Heavy Metal Model, Lines Truncated: 1304.4708043889343\n"
     ]
    }
   ],
   "source": [
    "# using validation to be robust against outliers \n",
    "def median_perplexity(model, lines: list, ngram: int=NGRAM, should_truncate: bool=False): \n",
    "    \"\"\"\n",
    "    Evaluates the given model by finding the median perplexity of the given test sequences. \n",
    "\n",
    "    Args:\n",
    "        model : the  N-gram Language Model \n",
    "        lines (list): a list of strings of data to evaluate perplexity on \n",
    "        ngram (int): the n-gram order used by the model\n",
    "        should_truncate (bool): an optional truncation parameter that shortens the sequences to the same length used by RNNs\n",
    "                                (to make perplexity more comparable between models)\n",
    "\n",
    "    Returns: median perplexity over the given sequences \n",
    "    \"\"\"\n",
    "    perplexities = []\n",
    "    for line in lines:\n",
    "        if should_truncate:\n",
    "            line = line[:10]\n",
    "\n",
    "        test_tokens = utils.tokenize_line(line, ngram)\n",
    "        perplexities.append(model.perplexity(test_tokens))\n",
    "\n",
    "    return np.median(perplexities)\n",
    "\n",
    "\n",
    "# perplexity on data that the models have not seen yet\n",
    "print(\"Median Validation Perplexity for Country Model:\", median_perplexity(laplace_country_model, country_val_lyrics))\n",
    "print(\"Median Validation Perplexity for Heavy Metal Model:\", median_perplexity(laplace_metal_model, metal_val_lyrics))\n",
    "\n",
    "print()\n",
    "\n",
    "# perplexity on data that the models have not seen yet - truncated \n",
    "print(\"Median Validation Perplexity for Country Model, Lines Truncated:\", median_perplexity(laplace_country_model, country_val_lyrics, should_truncate=True))\n",
    "print(\"Median Validation Perplexity for Heavy Metal Model, Lines Truncated:\", median_perplexity(laplace_metal_model, metal_val_lyrics, should_truncate=True))"
   ]
  },
  {
   "cell_type": "markdown",
   "metadata": {},
   "source": [
    "### Experimentation - Testing out Different NGRAM values"
   ]
  },
  {
   "cell_type": "code",
   "execution_count": 23,
   "metadata": {},
   "outputs": [
    {
     "data": {
      "image/png": "[encoded data removed]",
      "text/plain": [
       "<Figure size 640x480 with 1 Axes>"
      ]
     },
     "metadata": {},
     "output_type": "display_data"
    }
   ],
   "source": [
    "# visualize how NGRAM value impacts perplexity\n",
    "\n",
    "# NGRAM value for our x-axis \n",
    "ngram_val = [2, 3, 4, 5, 6]\n",
    "\n",
    "# Median Validation Perplexities for y-axis \n",
    "val_perplexities_country = [337, 1205, 2046, 2531, 2880]\n",
    "val_perplexities_country_truncated = [270, 674, 1123, 1585, 2041]\n",
    "val_perplexities_metal = [607, 1945, 2972, 3581, 4095]\n",
    "val_perplexities_metal_truncated = [585, 1304, 2034, 2722, 3376]\n",
    "\n",
    "\n",
    "plt.plot(ngram_val, val_perplexities_country, marker='o', linestyle='-', color='blue', label='Country')\n",
    "plt.plot(ngram_val, val_perplexities_country_truncated, marker='o', linestyle='--', color='blue', label='Country, Evaluated Lines Truncated')\n",
    "plt.plot(ngram_val, val_perplexities_metal, marker='o', linestyle='-', color='red', label='Heavy Metal')\n",
    "plt.plot(ngram_val, val_perplexities_metal_truncated, marker='o', linestyle='--', color='red', label='Heavy Metal, Evaluated Lines Truncated')\n",
    "\n",
    "\n",
    "plt.xlabel('NGRAM value')\n",
    "plt.ylabel('Median Perplexity')\n",
    "plt.title('Median Perplexity on Validation Song Lyrics for NGram Models by Genre')\n",
    "plt.legend()\n",
    "plt.show()"
   ]
  },
  {
   "cell_type": "markdown",
   "metadata": {},
   "source": [
    "##### Country Model \n",
    "\n",
    "__ngram=2__\n",
    "1. perplexity on validation set: 337.8503322927694\n",
    "1. perplexity on validation set, truncated lines: 270.707519486243\n",
    "4. example lyrics:\\\n",
    "love , oh wipe each other one without wishin that 's the by\\\n",
    "except what to realize\\\n",
    "put you take you\\\n",
    "he loved her mother\\\n",
    "no chance\\\n",
    "on and who i was there\n",
    "\n",
    "\n",
    "__ngram=3__\n",
    "1. perplexity on validation set: 1205.002805205404\n",
    "1. perplexity on validation set, truncated lines: 674.4858577404832\n",
    "4. example lyrics:\\\n",
    "i said i will\\\n",
    "and little jeanie 's sake .\\\n",
    "technicolor , river queen , three on high\\\n",
    "when a road with my fiddle\\\n",
    "yes everything i have shown\n",
    "\n",
    "__ngram=4__\n",
    "1. perplexity on validation set: 2046.0507074046266\n",
    "1. perplexity on validation set, truncated lines: 1123.0440974636188\n",
    "4. example lyrics:\\\n",
    "if heaven 's real\\\n",
    "i do n't know\\\n",
    "one night at a time\\\n",
    "well you nursed me through the valley filled with snow\\\n",
    "we always wear a great big world are we\\\n",
    "on a cloud nine ride\n",
    "\n",
    "__ngram=5__\n",
    "1. perplexity on validation set: 2531.502204342474\n",
    "1. perplexity on validation set, truncated lines: 1585.0532742231758\n",
    "4. example lyrics:\\\n",
    "lord above me knows i love you\\\n",
    "a beautiful sight , weæš®e happy tonight\\\n",
    "i get along with you\\\n",
    "however you look at it , whatever you believe\\\n",
    "she can crawl it\\\n",
    "'cause it 's beer thirty , and it 's time to go out on a huntin ' spree\\\n",
    "\n",
    "__ngram=6__\n",
    "1. perplexity on validation set: 2879.999449620529\n",
    "1. perplexity on validation set, truncated lines: 2040.811904729858\n",
    "4. example lyrics:\\\n",
    "she do n't really care who 's watchin '\\\n",
    "you can count on me\\\n",
    "and you just ca n't get it through my head you do n't care at all\\\n",
    "i live with angel she 's a roadhouse queen\\\n",
    "you keep my tears flowing\\\n",
    "sing it sweet and sing it low\n",
    "\n",
    "##### Heavy Metal Model\n",
    "\n",
    "__ngram=2__\n",
    "1. perplexity on validation set: 606.7330883081569\n",
    "1. perplexity on validation set, truncated lines: 585.5194027029972\n",
    "4. example lyrics:\n",
    "out all you\\\n",
    "but i hide , hey , dokken ,\\\n",
    "lay you pain\\\n",
    "colder than you make me in fire\\\n",
    "learning life go\n",
    "\n",
    "\n",
    "__ngram=3__\n",
    "1. perplexity on validation set: 1944.8382552263183\n",
    "1. perplexity on validation set, truncated lines: 1304.4708043889343\n",
    "4. example lyrics:\\\n",
    "oppressions wall they will learn\\\n",
    "mad magicians tinsel nightmares\\\n",
    "a thousand young\\\n",
    "wherever you are too much abuse of wasted human ... debris\\\n",
    "turning bottled water into wine\n",
    "\n",
    "__ngram=4__\n",
    "1. perplexity on validation set: 2972.0462423487797\n",
    "1. perplexity on validation set, truncated lines: 2034.6472475929634\n",
    "4. example lyrics:\\\n",
    "but now we retaliate\\\n",
    "devoid the fake with full disdain\\\n",
    "boiling in rage - sophisticated cage\\\n",
    "well , i know\\\n",
    "you feel it\n",
    "\n",
    "__ngram=5__\n",
    "1. perplexity on validation set: 3581.757352722282\n",
    "1. perplexity on validation set, truncated lines: 2722.2028257501215\n",
    "4. example lyrics:\\\n",
    "and now i close the door\\\n",
    "you will forger the pain\\\n",
    "ca n't somebody tell me am i the top of the chain\\\n",
    "just be my human hand\\\n",
    "death from above\n",
    "\n",
    "__ngram=6__\n",
    "1. perplexity on validation set: 4095.8146685243028\n",
    "1. perplexity on validation set, truncated lines: 3375.9122626059634\n",
    "4. example lyrics:\\\n",
    "confronting unconsciousness\\\n",
    "triumph awaits .\\\n",
    "i ’ ve had all i can take\\\n",
    "you lock me in\\\n",
    "tear down the veil"
   ]
  }
 ],
 "metadata": {
  "kernelspec": {
   "display_name": "base",
   "language": "python",
   "name": "python3"
  },
  "language_info": {
   "codemirror_mode": {
    "name": "ipython",
    "version": 3
   },
   "file_extension": ".py",
   "mimetype": "text/x-python",
   "name": "python",
   "nbconvert_exporter": "python",
   "pygments_lexer": "ipython3",
   "version": "3.11.4"
  }
 },
 "nbformat": 4,
 "nbformat_minor": 2
}
