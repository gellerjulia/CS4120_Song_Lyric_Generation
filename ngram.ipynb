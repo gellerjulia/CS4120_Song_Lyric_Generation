{
 "cells": [
  {
   "cell_type": "markdown",
   "metadata": {},
   "source": [
    "### N-Gram Language Model\n",
    "\n",
    "This notebook will train country and a heavy metal ngram models for the given NGRAM value. It generates and prints sequences using these models as well as evaluates perplexity on the validation sets. Analysis of tuning the NGRAM value can be found at the bottom of the notebook. \n",
    "\n",
    "When running, NGRAM (the n value to use) and NUM_SEQ_TO_GENERATE (the number of new sequences to create with the trained model) can be adjusted. "
   ]
  },
  {
   "cell_type": "code",
   "execution_count": 223,
   "metadata": {},
   "outputs": [],
   "source": [
    "#imports \n",
    "import pandas as pd\n",
    "import ngram_laplace_lm_model as lm\n",
    "import numpy as np\n",
    "import matplotlib.pyplot as plt\n",
    "\n",
    "import utils "
   ]
  },
  {
   "cell_type": "code",
   "execution_count": 224,
   "metadata": {},
   "outputs": [],
   "source": [
    "# special tokens \n",
    "SENTENCE_BEGIN = \"<s>\"\n",
    "SENTENCE_END = \"</s>\"\n",
    "\n",
    "# filepaths \n",
    "country_train_filepath = \"data/country_train.csv\"\n",
    "country_val_filepath = \"data/country_val.csv\"\n",
    "country_test_filepath = \"data/country_test.csv\"\n",
    "\n",
    "metal_train_filepath = \"data/metal_train.csv\"\n",
    "metal_val_filepath = \"data/metal_val.csv\"\n",
    "metal_test_filepath = \"data/metal_test.csv\"\n",
    "\n",
    "# constants to change \n",
    "NGRAM = 4\n",
    "NUM_SEQ_TO_GENERATE = 10 # how many lines to generate with our models \n",
    "VERBOSE = True"
   ]
  },
  {
   "cell_type": "code",
   "execution_count": 251,
   "metadata": {},
   "outputs": [
    {
     "name": "stdout",
     "output_type": "stream",
     "text": [
      "Number of training lines for Country: 149771\n",
      "Number of validation lines for Country: 18610\n",
      "Number of test lines for Country: 19108\n",
      "\n",
      "Number of training lines for Heavy Metal: 149771\n",
      "Number of validation lines for Heavy Metal: 18610\n",
      "Number of test lines for Heavy Metal: 19108\n"
     ]
    }
   ],
   "source": [
    "# read in data\n",
    "country_train_lyrics = pd.read_csv(country_train_filepath, header=None)[0].to_list()\n",
    "country_val_lyrics = pd.read_csv(country_val_filepath, header=None)[0].to_list()\n",
    "country_test_lyrics = pd.read_csv(country_test_filepath, header=None)[0].to_list()\n",
    "print(\"Number of training lines for Country:\", len(country_train_lyrics))\n",
    "print(\"Number of validation lines for Country:\", len(country_val_lyrics))\n",
    "print(\"Number of test lines for Country:\", len(country_test_lyrics))\n",
    "print()\n",
    "\n",
    "metal_train_lyrics = pd.read_csv(metal_train_filepath, header=None)[0].to_list()\n",
    "metal_val_lyrics = pd.read_csv(metal_val_filepath, header=None)[0].to_list()\n",
    "metal_test_lyrics = pd.read_csv(metal_test_filepath, header=None)[0].to_list()\n",
    "print(\"Number of training lines for Heavy Metal:\", len(metal_train_lyrics))\n",
    "print(\"Number of validation lines for Heavy Metal:\", len(metal_val_lyrics))\n",
    "print(\"Number of test lines for Heavy Metal:\", len(metal_test_lyrics))"
   ]
  },
  {
   "cell_type": "code",
   "execution_count": 226,
   "metadata": {},
   "outputs": [],
   "source": [
    "def create_ngram_laplace_model(training_sequences: list, ngram: int = NGRAM, verbose: bool = True):\n",
    "\t\"\"\"\n",
    "\t Creates a trained n-gram language model using Laplace Smoothing using the given training data \n",
    "\n",
    "\t Args:\n",
    "\t\ttraining_sequences (list): a list of training sequence strings\n",
    "\t\tngram (int): the n-gram order of the language model to create\n",
    "\t\tverbose (bool): if True, prints information about the training data \n",
    "\n",
    "\tReturns:\n",
    "\t\tA trained NGramLaplaceLanguageModel\n",
    "\t\"\"\"\n",
    "\ttokens = utils.tokenize(training_sequences, ngram)\n",
    "\tmodel = lm.NGramLaplaceLanguageModel(ngram)\n",
    "\tmodel.train(tokens, verbose=verbose)\n",
    "\n",
    "\treturn model"
   ]
  },
  {
   "cell_type": "code",
   "execution_count": 227,
   "metadata": {},
   "outputs": [
    {
     "name": "stdout",
     "output_type": "stream",
     "text": [
      "Country Laplace Model:\n",
      "Number of tokens: 2099943\n",
      "N-gram examples: [('<s>', '<s>', '<s>', 'i'), ('<s>', '<s>', 'i', \"'ve\"), ('<s>', 'i', \"'ve\", 'seen')]\n",
      "Vocabulary Size: 11236\n"
     ]
    }
   ],
   "source": [
    "print(\"Country Laplace Model:\")\n",
    "laplace_country_model = create_ngram_laplace_model(country_train_lyrics)"
   ]
  },
  {
   "cell_type": "code",
   "execution_count": 228,
   "metadata": {},
   "outputs": [
    {
     "name": "stdout",
     "output_type": "stream",
     "text": [
      "Heavy Metal Laplace Model:\n",
      "Number of tokens: 1846891\n",
      "N-gram examples: [('<s>', '<s>', '<s>', 'my'), ('<s>', '<s>', 'my', 'journey'), ('<s>', 'my', 'journey', 'began')]\n",
      "Vocabulary Size: 14350\n"
     ]
    }
   ],
   "source": [
    "print(\"Heavy Metal Laplace Model:\")\n",
    "laplace_metal_model = create_ngram_laplace_model(metal_train_lyrics)"
   ]
  },
  {
   "cell_type": "markdown",
   "metadata": {},
   "source": [
    "#### Generate New Sequences "
   ]
  },
  {
   "cell_type": "code",
   "execution_count": 229,
   "metadata": {},
   "outputs": [],
   "source": [
    "# method to help format generated sentences \n",
    "def clean_lyric(lyric_tokens: list) -> str:\n",
    "    \"\"\"\n",
    "    Return the given sequence of tokens as a single string without special tokens \n",
    "    Args:\n",
    "        lyric_tokens (list): list of tokens for the generated sequence\n",
    "\n",
    "    Returns:\n",
    "        The tokens joined in a single string without special characters \n",
    "\n",
    "    \"\"\"\n",
    "    lyric_str = ' '.join(lyric_tokens)\n",
    "    return lyric_str.replace(SENTENCE_BEGIN, '').replace(SENTENCE_END, '').strip()"
   ]
  },
  {
   "cell_type": "code",
   "execution_count": 244,
   "metadata": {},
   "outputs": [
    {
     "name": "stdout",
     "output_type": "stream",
     "text": [
      "Country Generated Lyrics:\n",
      "\n",
      "( peace on earth tonight\n",
      "c/g f em\n",
      "tell you the truth , my friend\n",
      "so sad but so true\n",
      "lets love like we 're hungry again\n",
      "caught this ramblin ' fever in my head from my toes\n",
      "talk about a bummer\n",
      "i ( c ) king is ( g ) floor\n",
      "to the one he wanted\n",
      "and that funeral  well it wad n't much for looks he was only five feet tall\n"
     ]
    }
   ],
   "source": [
    "print(\"Country Generated Lyrics:\\n\")\n",
    "for i in range(NUM_SEQ_TO_GENERATE):\n",
    "    lyric_tokens = laplace_country_model.generate_sentence()\n",
    "    print(clean_lyric(lyric_tokens))"
   ]
  },
  {
   "cell_type": "code",
   "execution_count": 243,
   "metadata": {},
   "outputs": [],
   "source": [
    "for l in country_train_lyrics:\n",
    "    if \"yeah, you're crying\" in l:\n",
    "        print(l)"
   ]
  },
  {
   "cell_type": "code",
   "execution_count": 231,
   "metadata": {},
   "outputs": [
    {
     "name": "stdout",
     "output_type": "stream",
     "text": [
      "Heavy Metal Generated Lyrics:\n",
      "\n",
      "give up your life ,\n",
      "their humility\n",
      "i cry aloud my last words of sorrow\n",
      "on velvet skins\n",
      "better to die than to live with sure body wild until the pressure so\n",
      "to fight our souls with silent screams\n",
      "just remember , remember\n",
      "i tried to run , the tale is black , all we have is real\n",
      "true and faithful\n",
      "i will tell you\n"
     ]
    }
   ],
   "source": [
    "print(\"Heavy Metal Generated Lyrics:\\n\")\n",
    "for i in range(NUM_SEQ_TO_GENERATE):\n",
    "    lyric_tokens = laplace_metal_model.generate_sentence()\n",
    "    print(clean_lyric(lyric_tokens))"
   ]
  },
  {
   "cell_type": "markdown",
   "metadata": {},
   "source": [
    "#### Evaluate Perplexity\n",
    "\n",
    "We will compute the mean perplexity on the validation data, which is distinct from the data used to train the model"
   ]
  },
  {
   "cell_type": "code",
   "execution_count": 250,
   "metadata": {},
   "outputs": [
    {
     "name": "stdout",
     "output_type": "stream",
     "text": [
      "NGRAM = 4\n",
      "Mean Validation Perplexity for Country Model: 2536.2361611565543\n",
      "Mean Validation Perplexity for Heavy Metal Model: 3727.8271978820085\n"
     ]
    }
   ],
   "source": [
    "def get_perplexities(model, lines: list, ngram: int=NGRAM):\n",
    "    \"\"\"\n",
    "    Finds the mean perplexity for each of the given test sequences using the given model\n",
    "\n",
    "    Args:\n",
    "        model : the  N-gram Language Model \n",
    "        lines (list): a list of strings of data to evaluate perplexity on \n",
    "        ngram (int): the n-gram order used by the model\n",
    "       \n",
    "    Returns: \n",
    "        perplexities (list): list of perplexity values \n",
    "    \"\"\"\n",
    "    perplexities = []\n",
    "    for line in lines:\n",
    "        test_tokens = utils.tokenize_line(line, ngram)\n",
    "        perplexities.append(model.perplexity(test_tokens))\n",
    "\n",
    "    return perplexities\n",
    "\n",
    "\n",
    "def average_perplexity(model, lines: list, ngram: int=NGRAM): \n",
    "    \"\"\"\n",
    "    Evaluates the given model by finding the mean perplexity of the given test sequences. \n",
    "\n",
    "    Args:\n",
    "        model : the  N-gram Language Model \n",
    "        lines (list): a list of strings of data to evaluate perplexity on \n",
    "        ngram (int): the n-gram order used by the model\n",
    "        \n",
    "    Returns: average perplexity over the given sequences \n",
    "    \"\"\"\n",
    "    perplexities = get_perplexities(model, lines, ngram)\n",
    "    return np.mean(perplexities)\n",
    "\n",
    "\n",
    "print(\"NGRAM =\", NGRAM)\n",
    "\n",
    "print(\"Mean Validation Perplexity for Country Model:\", average_perplexity(laplace_country_model, country_val_lyrics))\n",
    "print(\"Mean Validation Perplexity for Heavy Metal Model:\", average_perplexity(laplace_metal_model, metal_val_lyrics))"
   ]
  },
  {
   "cell_type": "markdown",
   "metadata": {},
   "source": [
    "### Experimentation - Testing out Different NGRAM values"
   ]
  },
  {
   "cell_type": "code",
   "execution_count": 248,
   "metadata": {},
   "outputs": [
    {
     "data": {
      "image/png": "[encoded data removed]",
      "text/plain": [
       "<Figure size 640x480 with 1 Axes>"
      ]
     },
     "metadata": {},
     "output_type": "display_data"
    }
   ],
   "source": [
    "# visualize how NGRAM value impacts perplexity\n",
    "\n",
    "# NGRAM value for our x-axis \n",
    "ngram_values = [1, 2, 3, 4, 5]\n",
    "plt.xticks(ngram_values, ngram_values)\n",
    "\n",
    "# Mean Validation Perplexities for y-axis - rounded to the nearest integer \n",
    "val_perplexities_country = [672, 669, 1722, 2536, 2970]\n",
    "val_perplexities_metal = [813, 1309, 2811, 3728, 4249]\n",
    "\n",
    "plt.scatter(ngram_values, val_perplexities_country, color='blue', label='Country')\n",
    "plt.scatter(ngram_values, val_perplexities_metal,  color='red', label='Heavy Metal')\n",
    "\n",
    "plt.xlabel('NGRAM value')\n",
    "plt.ylabel('Mean Perplexity')\n",
    "plt.title('Mean Perplexity on Validation Song Lyrics for NGram Models by Genre')\n",
    "plt.legend()\n",
    "plt.show()"
   ]
  },
  {
   "cell_type": "markdown",
   "metadata": {},
   "source": [
    "| NGRAM | Genre       | Mean Validation Perplexity | Generated Examples                                                                                                                                                                                     |\n",
    "|-------|-------------|----------------------------|--------------------------------------------------------------------------------------------------------------------------------------------------------------------------------------------------------|\n",
    "| 1     | Country     | 671.6781087727638          | our days well<br>glory<br>until<br>, marie sound it of i american<br>they the if both through antone lose<br>to you waiting river new you                                                              |\n",
    "| 2     | Country     | 669.3040625824256          | love , oh wipe each other one without wishin that 's the by<br>except what to realize<br>put you take you<br>he loved her mother<br>no chance                                                          |\n",
    "| 3     | Country     | 1722.161449942283          | i said i will<br>and little jeanie 's sake .<br>technicolor , river queen , three on high<br>when a road with my fiddle<br>yes everything i have shown                                                 |\n",
    "| 4     | Country     | 2536.2361611565543         | if heaven 's real<br>i do n't know<br>one night at a time<br>well you nursed me through the valley filled with snow<br>we always wear a great big world are we<br>on a cloud nine ride                 |\n",
    "| 5     | Country     | 2970.185882071465          | lord above me knows i love you<br>i get along with you<br>however you look at it , whatever you believe<br>she can crawl it<br>'cause it 's beer thirty , and it 's time to go out on a huntin ' spree |\n",
    "| 1     | Heavy Metal | 813.055866023289           | ends a - was you<br>ice me go<br>there , was without watch my<br>fears an the of left give blood drive-in state power<br>is far hate the fever can ear again who face                                  |\n",
    "| 2     | Heavy Metal | 1309.2450258437107         | out all you<br>but i hide , hey , dokken ,<br>lay you pain<br>colder than you make me in fire<br>learning life go                                                                                      |\n",
    "| 3     | Heavy Metal | 2810.7121869637062         | oppressions wall they will learn<br>mad magicians tinsel nightmares<br>a thousand young<br>wherever you are too much abuse of wasted human ... debris<br>turning bottled water into wine               |\n",
    "| 4     | Heavy Metal | 3727.8271978820085         | but now we retaliate<br>devoid the fake with full disdain<br>boiling in rage - sophisticated cage<br>well , i know<br>you feel it                                                                      |\n",
    "| 5     | Heavy Metal | 4249.127826808508          | and now i close the door<br>you will forger the pain<br>ca n't somebody tell me am i the top of the chain<br>just be my human hand<br>death from above                                                 |"
   ]
  },
  {
   "cell_type": "markdown",
   "metadata": {},
   "source": [
    "\n",
    "Based on the validation perplexities and our own evaluation of how comprehensible the models' outputs are, we selected an NGRAM value of 4. We want the NGRAM value to be large enough to capture context and grammatical-correctness over a sequence. However, but we don't want the NGRAM value to be too large, as this will cause our generated sentences to be mimicked from the training data (since Shannon's method only produces seen n-grams, and song lyrics can sometimes be short). With our chosen NGRAM value, some sequences may be parroted, but we hope that we will generally produce varied and understandable sequences."
   ]
  },
  {
   "cell_type": "code",
   "execution_count": 234,
   "metadata": {},
   "outputs": [],
   "source": [
    "def write_generated_seqs(model, num_seqs, file_path):\n",
    "\t\t\"\"\"\" \n",
    "\t\tGenerates num_seqs lines with the given model and writes them to a txt file at the given file_path\n",
    "\n",
    "\t\tArgs: \n",
    "\t\t\tmodel : an N-gram model to generated sentences with \n",
    "\t\t\tnum_seqs (int): the number of lines to generate and save \n",
    "\t\t\tfile_path (str): the filepath to write to\n",
    "\t\t\"\"\"\n",
    "\t\twith open(file_path, 'w') as f:\n",
    "\n",
    "\t\t\tfor i in range(num_seqs):\n",
    "\t\t\t\t# print progress \n",
    "\t\t\t\tif i % 10 == 0:\n",
    "\t\t\t\t\tprint(\"Generating line\", i, \"/\", num_seqs)\n",
    "\n",
    "\t\t\t\tlyric_tokens = model.generate_sentence()\n",
    "\t\t\t\tf.write(clean_lyric(lyric_tokens)+ '/n')\n",
    "\n",
    "\t\tf.close()\n",
    "\n",
    "# commenting out to avoid overwriting our files \n",
    "#write_generated_seqs(laplace_country_model, 100, \"generated_txts/ngram_country.txt\")\n",
    "#write_generated_seqs(laplace_metal_model, 100, \"generated_txts/ngram_metal.txt\")"
   ]
  },
  {
   "cell_type": "markdown",
   "metadata": {},
   "source": [
    "#### Compute Mean Perplexity on the Test Data for our Chosen Model (NGRAM = 4)"
   ]
  },
  {
   "cell_type": "code",
   "execution_count": 252,
   "metadata": {},
   "outputs": [
    {
     "name": "stdout",
     "output_type": "stream",
     "text": [
      "Mean Test Perplexity for Country Model: 2507.3260001607314\n",
      "Mean Test Perplexity for Heavy Metal Model: 3818.615241097852\n"
     ]
    }
   ],
   "source": [
    "print(\"Mean Test Perplexity for Country Model:\", average_perplexity(laplace_country_model, country_test_lyrics))\n",
    "print(\"Mean Test Perplexity for Heavy Metal Model:\", average_perplexity(laplace_metal_model, metal_test_lyrics))"
   ]
  }
 ],
 "metadata": {
  "kernelspec": {
   "display_name": "base",
   "language": "python",
   "name": "python3"
  },
  "language_info": {
   "codemirror_mode": {
    "name": "ipython",
    "version": 3
   },
   "file_extension": ".py",
   "mimetype": "text/x-python",
   "name": "python",
   "nbconvert_exporter": "python",
   "pygments_lexer": "ipython3",
   "version": "3.11.4"
  }
 },
 "nbformat": 4,
 "nbformat_minor": 2
}
