{
 "cells": [
  {
   "cell_type": "markdown",
   "metadata": {},
   "source": [
    "### N-Gram Language Model"
   ]
  },
  {
   "cell_type": "code",
   "execution_count": 1,
   "metadata": {},
   "outputs": [],
   "source": [
    "import pandas as pd\n",
    "import ngram_utils as utils "
   ]
  },
  {
   "cell_type": "code",
   "execution_count": 2,
   "metadata": {},
   "outputs": [],
   "source": [
    "# constants \n",
    "NGRAM = 4\n",
    "SENTENCE_BEGIN = \"<s>\"\n",
    "SENTENCE_END = \"</s>\""
   ]
  },
  {
   "cell_type": "code",
   "execution_count": 3,
   "metadata": {},
   "outputs": [
    {
     "name": "stdout",
     "output_type": "stream",
     "text": [
      "(171855, 5)\n"
     ]
    },
    {
     "data": {
      "text/html": [
       "<div>\n",
       "<style scoped>\n",
       "    .dataframe tbody tr th:only-of-type {\n",
       "        vertical-align: middle;\n",
       "    }\n",
       "\n",
       "    .dataframe tbody tr th {\n",
       "        vertical-align: top;\n",
       "    }\n",
       "\n",
       "    .dataframe thead th {\n",
       "        text-align: right;\n",
       "    }\n",
       "</style>\n",
       "<table border=\"1\" class=\"dataframe\">\n",
       "  <thead>\n",
       "    <tr style=\"text-align: right;\">\n",
       "      <th></th>\n",
       "      <th>artist</th>\n",
       "      <th>song_name</th>\n",
       "      <th>lyrics</th>\n",
       "      <th>language</th>\n",
       "      <th>genres</th>\n",
       "    </tr>\n",
       "  </thead>\n",
       "  <tbody>\n",
       "    <tr>\n",
       "      <th>0</th>\n",
       "      <td>ivete sangalo</td>\n",
       "      <td>Careless Whisper</td>\n",
       "      <td>I feel so unsure\\nAs I take your hand and lead...</td>\n",
       "      <td>en</td>\n",
       "      <td>['Pop', ' Axé', ' Romântico']</td>\n",
       "    </tr>\n",
       "    <tr>\n",
       "      <th>1</th>\n",
       "      <td>ivete sangalo</td>\n",
       "      <td>Could You Be Loved / Citação Musical do Rap: S...</td>\n",
       "      <td>Don't let them fool, ya\\nOr even try to school...</td>\n",
       "      <td>en</td>\n",
       "      <td>['Pop', ' Axé', ' Romântico']</td>\n",
       "    </tr>\n",
       "    <tr>\n",
       "      <th>2</th>\n",
       "      <td>ivete sangalo</td>\n",
       "      <td>Cruisin' (Part. Saulo)</td>\n",
       "      <td>Baby, let's cruise, away from here\\nDon't be c...</td>\n",
       "      <td>en</td>\n",
       "      <td>['Pop', ' Axé', ' Romântico']</td>\n",
       "    </tr>\n",
       "    <tr>\n",
       "      <th>3</th>\n",
       "      <td>ivete sangalo</td>\n",
       "      <td>Easy</td>\n",
       "      <td>Know it sounds funny\\nBut, I just can't stand ...</td>\n",
       "      <td>en</td>\n",
       "      <td>['Pop', ' Axé', ' Romântico']</td>\n",
       "    </tr>\n",
       "    <tr>\n",
       "      <th>4</th>\n",
       "      <td>ivete sangalo</td>\n",
       "      <td>For Your Babies (The Voice cover)</td>\n",
       "      <td>You've got that look again\\nThe one I hoped I ...</td>\n",
       "      <td>en</td>\n",
       "      <td>['Pop', ' Axé', ' Romântico']</td>\n",
       "    </tr>\n",
       "  </tbody>\n",
       "</table>\n",
       "</div>"
      ],
      "text/plain": [
       "          artist                                          song_name  \\\n",
       "0  ivete sangalo                                   Careless Whisper   \n",
       "1  ivete sangalo  Could You Be Loved / Citação Musical do Rap: S...   \n",
       "2  ivete sangalo                             Cruisin' (Part. Saulo)   \n",
       "3  ivete sangalo                                               Easy   \n",
       "4  ivete sangalo                  For Your Babies (The Voice cover)   \n",
       "\n",
       "                                              lyrics language  \\\n",
       "0  I feel so unsure\\nAs I take your hand and lead...       en   \n",
       "1  Don't let them fool, ya\\nOr even try to school...       en   \n",
       "2  Baby, let's cruise, away from here\\nDon't be c...       en   \n",
       "3  Know it sounds funny\\nBut, I just can't stand ...       en   \n",
       "4  You've got that look again\\nThe one I hoped I ...       en   \n",
       "\n",
       "                          genres  \n",
       "0  ['Pop', ' Axé', ' Romântico']  \n",
       "1  ['Pop', ' Axé', ' Romântico']  \n",
       "2  ['Pop', ' Axé', ' Romântico']  \n",
       "3  ['Pop', ' Axé', ' Romântico']  \n",
       "4  ['Pop', ' Axé', ' Romântico']  "
      ]
     },
     "execution_count": 3,
     "metadata": {},
     "output_type": "execute_result"
    }
   ],
   "source": [
    "# read in cleaned data\n",
    "song_df = pd.read_csv('clean_data.csv')\n",
    "print(song_df.shape)\n",
    "song_df.head(5)"
   ]
  },
  {
   "cell_type": "markdown",
   "metadata": {},
   "source": [
    "#### Using NLTK Model with Kneser-Ney Smoothing "
   ]
  },
  {
   "cell_type": "code",
   "execution_count": 4,
   "metadata": {},
   "outputs": [],
   "source": [
    "power_pop_model = utils.create_ngram_kneser_ney_model(song_df, \"Power-Pop\", NGRAM)"
   ]
  },
  {
   "cell_type": "code",
   "execution_count": 5,
   "metadata": {},
   "outputs": [
    {
     "name": "stdout",
     "output_type": "stream",
     "text": [
      "power super super power\n",
      "things might start improving\n",
      "beth mackenzing sees one just up ahead\n",
      "cars on the highway, up in the mirror is her only friend.\n",
      "bible-bashing me in the eye?\n",
      "freeloader freddy got a cold chevy nova\n",
      "heart in my mouth; pulse in my head\n",
      "(pre-chorus)\n",
      "playing solitaire\n",
      "freed the daytime with indifference\n"
     ]
    }
   ],
   "source": [
    "for _ in range(10):\n",
    "    sentence = list(power_pop_model.generate(20, \"<s> <s>\".split())) \n",
    "    sentence = \" \".join(sentence)\n",
    "    sentence = sentence.replace('</s>', '').strip()\n",
    "    print(sentence)"
   ]
  },
  {
   "cell_type": "markdown",
   "metadata": {},
   "source": [
    "#### Using Own N-Gram Language Model with Laplace Smoothing"
   ]
  },
  {
   "cell_type": "code",
   "execution_count": 6,
   "metadata": {},
   "outputs": [],
   "source": [
    "blues_model = utils.create_ngram_laplace_model(song_df, \"Blues\", NGRAM)"
   ]
  },
  {
   "cell_type": "code",
   "execution_count": 8,
   "metadata": {},
   "outputs": [
    {
     "name": "stdout",
     "output_type": "stream",
     "text": [
      "that nobody steals her heart away\n",
      "<UNK> pledge my love to you is like a carousel you aim for heaven\n",
      "coming 'round the bend.\n",
      "la moora, la moora, soft as a sigh,\n",
      "tumbling, in a world that has burned.\n",
      "when i'm sad she comes to me\n",
      "gets a big red nose\n",
      "but when a love falls a heart must break,\n",
      "don't give me a cool drink of water before i die\n",
      "if all of my time\n"
     ]
    }
   ],
   "source": [
    "lyrics = blues_model.generate(10)\n",
    "for lyric in lyrics:\n",
    "    lyric = ' '.join(lyric)\n",
    "    lyric = lyric.replace('<s>', '').replace('</s>', '').strip()\n",
    "    print(lyric)"
   ]
  }
 ],
 "metadata": {
  "kernelspec": {
   "display_name": "base",
   "language": "python",
   "name": "python3"
  },
  "language_info": {
   "codemirror_mode": {
    "name": "ipython",
    "version": 3
   },
   "file_extension": ".py",
   "mimetype": "text/x-python",
   "name": "python",
   "nbconvert_exporter": "python",
   "pygments_lexer": "ipython3",
   "version": "3.11.4"
  }
 },
 "nbformat": 4,
 "nbformat_minor": 2
}
