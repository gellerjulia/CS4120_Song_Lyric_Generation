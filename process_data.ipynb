{
 "cells": [
  {
   "cell_type": "code",
   "execution_count": 1,
   "metadata": {},
   "outputs": [
    {
     "name": "stderr",
     "output_type": "stream",
     "text": [
      "[nltk_data] Downloading package punkt to\n",
      "[nltk_data]     C:\\Users\\J-Dog\\AppData\\Roaming\\nltk_data...\n",
      "[nltk_data]   Package punkt is already up-to-date!\n"
     ]
    }
   ],
   "source": [
    "from process_data_utils import clean_artist\n",
    "import pandas as pd\n",
    "import nltk"
   ]
  },
  {
   "cell_type": "code",
   "execution_count": 13,
   "metadata": {},
   "outputs": [
    {
     "name": "stdout",
     "output_type": "stream",
     "text": [
      "(365294, 4)\n"
     ]
    },
    {
     "data": {
      "text/html": [
       "<div>\n",
       "<style scoped>\n",
       "    .dataframe tbody tr th:only-of-type {\n",
       "        vertical-align: middle;\n",
       "    }\n",
       "\n",
       "    .dataframe tbody tr th {\n",
       "        vertical-align: top;\n",
       "    }\n",
       "\n",
       "    .dataframe thead th {\n",
       "        text-align: right;\n",
       "    }\n",
       "</style>\n",
       "<table border=\"1\" class=\"dataframe\">\n",
       "  <thead>\n",
       "    <tr style=\"text-align: right;\">\n",
       "      <th></th>\n",
       "      <th>artist</th>\n",
       "      <th>song_name</th>\n",
       "      <th>lyrics</th>\n",
       "      <th>language</th>\n",
       "    </tr>\n",
       "  </thead>\n",
       "  <tbody>\n",
       "    <tr>\n",
       "      <th>0</th>\n",
       "      <td>ivete sangalo</td>\n",
       "      <td>Arerê</td>\n",
       "      <td>Tudo o que eu quero nessa vida,\\nToda vida, é\\...</td>\n",
       "      <td>pt</td>\n",
       "    </tr>\n",
       "    <tr>\n",
       "      <th>1</th>\n",
       "      <td>ivete sangalo</td>\n",
       "      <td>Se Eu Não Te Amasse Tanto Assim</td>\n",
       "      <td>Meu coração\\nSem direção\\nVoando só por voar\\n...</td>\n",
       "      <td>pt</td>\n",
       "    </tr>\n",
       "    <tr>\n",
       "      <th>2</th>\n",
       "      <td>ivete sangalo</td>\n",
       "      <td>Céu da Boca</td>\n",
       "      <td>É de babaixá!\\nÉ de balacubaca!\\nÉ de babaixá!...</td>\n",
       "      <td>pt</td>\n",
       "    </tr>\n",
       "    <tr>\n",
       "      <th>3</th>\n",
       "      <td>ivete sangalo</td>\n",
       "      <td>Quando A Chuva Passar</td>\n",
       "      <td>Quando a chuva passar\\n\\nPra quê falar\\nSe voc...</td>\n",
       "      <td>pt</td>\n",
       "    </tr>\n",
       "    <tr>\n",
       "      <th>4</th>\n",
       "      <td>ivete sangalo</td>\n",
       "      <td>Sorte Grande</td>\n",
       "      <td>A minha sorte grande foi você cair do céu\\nMin...</td>\n",
       "      <td>pt</td>\n",
       "    </tr>\n",
       "  </tbody>\n",
       "</table>\n",
       "</div>"
      ],
      "text/plain": [
       "          artist                        song_name  \\\n",
       "0  ivete sangalo                            Arerê   \n",
       "1  ivete sangalo  Se Eu Não Te Amasse Tanto Assim   \n",
       "2  ivete sangalo                      Céu da Boca   \n",
       "3  ivete sangalo            Quando A Chuva Passar   \n",
       "4  ivete sangalo                     Sorte Grande   \n",
       "\n",
       "                                              lyrics language  \n",
       "0  Tudo o que eu quero nessa vida,\\nToda vida, é\\...       pt  \n",
       "1  Meu coração\\nSem direção\\nVoando só por voar\\n...       pt  \n",
       "2  É de babaixá!\\nÉ de balacubaca!\\nÉ de babaixá!...       pt  \n",
       "3  Quando a chuva passar\\n\\nPra quê falar\\nSe voc...       pt  \n",
       "4  A minha sorte grande foi você cair do céu\\nMin...       pt  "
      ]
     },
     "execution_count": 13,
     "metadata": {},
     "output_type": "execute_result"
    }
   ],
   "source": [
    "# read in lyrics data\n",
    "lyrics_df = pd.read_csv('lyrics-data.csv')\n",
    "lyrics_df.rename(columns={'SName': 'song_name', 'Lyric': 'lyrics', 'ALink': 'artist'}, inplace = True)\n",
    "lyrics_df.drop(columns=['SLink'], inplace=True)\n",
    "lyrics_df.dropna(inplace=True)\n",
    "# clean the artist name\n",
    "lyrics_df['artist'] = lyrics_df['artist'].apply(clean_artist)\n",
    "print(lyrics_df.shape)\n",
    "lyrics_df.head(5)"
   ]
  },
  {
   "cell_type": "code",
   "execution_count": 14,
   "metadata": {},
   "outputs": [
    {
     "name": "stdout",
     "output_type": "stream",
     "text": [
      "(4163, 2)\n"
     ]
    },
    {
     "data": {
      "text/html": [
       "<div>\n",
       "<style scoped>\n",
       "    .dataframe tbody tr th:only-of-type {\n",
       "        vertical-align: middle;\n",
       "    }\n",
       "\n",
       "    .dataframe tbody tr th {\n",
       "        vertical-align: top;\n",
       "    }\n",
       "\n",
       "    .dataframe thead th {\n",
       "        text-align: right;\n",
       "    }\n",
       "</style>\n",
       "<table border=\"1\" class=\"dataframe\">\n",
       "  <thead>\n",
       "    <tr style=\"text-align: right;\">\n",
       "      <th></th>\n",
       "      <th>artist</th>\n",
       "      <th>genres</th>\n",
       "    </tr>\n",
       "  </thead>\n",
       "  <tbody>\n",
       "    <tr>\n",
       "      <th>0</th>\n",
       "      <td>ivete sangalo</td>\n",
       "      <td>Pop; Axé; Romântico</td>\n",
       "    </tr>\n",
       "    <tr>\n",
       "      <th>1</th>\n",
       "      <td>chiclete com banana</td>\n",
       "      <td>Axé</td>\n",
       "    </tr>\n",
       "    <tr>\n",
       "      <th>2</th>\n",
       "      <td>banda eva</td>\n",
       "      <td>Axé; Romântico; Reggae</td>\n",
       "    </tr>\n",
       "    <tr>\n",
       "      <th>3</th>\n",
       "      <td>é o tchan</td>\n",
       "      <td>Axé</td>\n",
       "    </tr>\n",
       "    <tr>\n",
       "      <th>4</th>\n",
       "      <td>claudia leitte</td>\n",
       "      <td>Pop; Axé; Romântico</td>\n",
       "    </tr>\n",
       "  </tbody>\n",
       "</table>\n",
       "</div>"
      ],
      "text/plain": [
       "                artist                  genres\n",
       "0        ivete sangalo     Pop; Axé; Romântico\n",
       "1  chiclete com banana                     Axé\n",
       "2            banda eva  Axé; Romântico; Reggae\n",
       "3            é o tchan                     Axé\n",
       "4       claudia leitte     Pop; Axé; Romântico"
      ]
     },
     "execution_count": 14,
     "metadata": {},
     "output_type": "execute_result"
    }
   ],
   "source": [
    "# read in artist data\n",
    "artist_df = pd.read_csv('artists-data.xls')\n",
    "artist_df.rename(columns={'Artist': 'artist', 'Genres': 'genres'}, inplace = True)\n",
    "artist_df.drop(columns=['Popularity', 'Link', 'Songs'], inplace = True)\n",
    "artist_df.dropna(inplace=True)\n",
    "# clean the artist name\n",
    "artist_df['artist'] = artist_df['artist'].apply(clean_artist)\n",
    "print(artist_df.shape)\n",
    "artist_df.head(5)"
   ]
  },
  {
   "cell_type": "code",
   "execution_count": 17,
   "metadata": {},
   "outputs": [
    {
     "name": "stdout",
     "output_type": "stream",
     "text": [
      "(288930, 5)\n"
     ]
    },
    {
     "data": {
      "text/html": [
       "<div>\n",
       "<style scoped>\n",
       "    .dataframe tbody tr th:only-of-type {\n",
       "        vertical-align: middle;\n",
       "    }\n",
       "\n",
       "    .dataframe tbody tr th {\n",
       "        vertical-align: top;\n",
       "    }\n",
       "\n",
       "    .dataframe thead th {\n",
       "        text-align: right;\n",
       "    }\n",
       "</style>\n",
       "<table border=\"1\" class=\"dataframe\">\n",
       "  <thead>\n",
       "    <tr style=\"text-align: right;\">\n",
       "      <th></th>\n",
       "      <th>artist</th>\n",
       "      <th>song_name</th>\n",
       "      <th>lyrics</th>\n",
       "      <th>language</th>\n",
       "      <th>genres</th>\n",
       "    </tr>\n",
       "  </thead>\n",
       "  <tbody>\n",
       "    <tr>\n",
       "      <th>0</th>\n",
       "      <td>ivete sangalo</td>\n",
       "      <td>Arerê</td>\n",
       "      <td>[Tudo, o, que, eu, quero, nessa, vida, ,, Toda...</td>\n",
       "      <td>pt</td>\n",
       "      <td>Pop; Axé; Romântico</td>\n",
       "    </tr>\n",
       "    <tr>\n",
       "      <th>1</th>\n",
       "      <td>ivete sangalo</td>\n",
       "      <td>Se Eu Não Te Amasse Tanto Assim</td>\n",
       "      <td>[Meu, coração, Sem, direção, Voando, só, por, ...</td>\n",
       "      <td>pt</td>\n",
       "      <td>Pop; Axé; Romântico</td>\n",
       "    </tr>\n",
       "    <tr>\n",
       "      <th>2</th>\n",
       "      <td>ivete sangalo</td>\n",
       "      <td>Céu da Boca</td>\n",
       "      <td>[É, de, babaixá, !, É, de, balacubaca, !, É, d...</td>\n",
       "      <td>pt</td>\n",
       "      <td>Pop; Axé; Romântico</td>\n",
       "    </tr>\n",
       "    <tr>\n",
       "      <th>3</th>\n",
       "      <td>ivete sangalo</td>\n",
       "      <td>Quando A Chuva Passar</td>\n",
       "      <td>[Quando, a, chuva, passar, Pra, quê, falar, Se...</td>\n",
       "      <td>pt</td>\n",
       "      <td>Pop; Axé; Romântico</td>\n",
       "    </tr>\n",
       "    <tr>\n",
       "      <th>4</th>\n",
       "      <td>ivete sangalo</td>\n",
       "      <td>Sorte Grande</td>\n",
       "      <td>[A, minha, sorte, grande, foi, você, cair, do,...</td>\n",
       "      <td>pt</td>\n",
       "      <td>Pop; Axé; Romântico</td>\n",
       "    </tr>\n",
       "  </tbody>\n",
       "</table>\n",
       "</div>"
      ],
      "text/plain": [
       "          artist                        song_name  \\\n",
       "0  ivete sangalo                            Arerê   \n",
       "1  ivete sangalo  Se Eu Não Te Amasse Tanto Assim   \n",
       "2  ivete sangalo                      Céu da Boca   \n",
       "3  ivete sangalo            Quando A Chuva Passar   \n",
       "4  ivete sangalo                     Sorte Grande   \n",
       "\n",
       "                                              lyrics language  \\\n",
       "0  [Tudo, o, que, eu, quero, nessa, vida, ,, Toda...       pt   \n",
       "1  [Meu, coração, Sem, direção, Voando, só, por, ...       pt   \n",
       "2  [É, de, babaixá, !, É, de, balacubaca, !, É, d...       pt   \n",
       "3  [Quando, a, chuva, passar, Pra, quê, falar, Se...       pt   \n",
       "4  [A, minha, sorte, grande, foi, você, cair, do,...       pt   \n",
       "\n",
       "                genres  \n",
       "0  Pop; Axé; Romântico  \n",
       "1  Pop; Axé; Romântico  \n",
       "2  Pop; Axé; Romântico  \n",
       "3  Pop; Axé; Romântico  \n",
       "4  Pop; Axé; Romântico  "
      ]
     },
     "execution_count": 17,
     "metadata": {},
     "output_type": "execute_result"
    }
   ],
   "source": [
    "df = pd.merge(lyrics_df, artist_df, on='artist', how='left')\n",
    "df.dropna(inplace=True)\n",
    "# tokenize lyrics\n",
    "df['lyrics'] = df['lyrics'].apply(lambda lyrics: nltk.word_tokenize(lyrics))\n",
    "# turn genres into list\n",
    "df['genres'] = df['genres'].apply(lambda genres: genres.split(';'))\n",
    "df.reset_index(drop=True, inplace=True)   \n",
    "print(df.shape)\n",
    "df.head(5)"
   ]
  },
  {
   "cell_type": "code",
   "execution_count": 47,
   "metadata": {},
   "outputs": [],
   "source": [
    "# save data as csv\n",
    "df.to_csv('clean_data.csv')"
   ]
  }
 ],
 "metadata": {
  "kernelspec": {
   "display_name": "Python 3",
   "language": "python",
   "name": "python3"
  },
  "language_info": {
   "codemirror_mode": {
    "name": "ipython",
    "version": 3
   },
   "file_extension": ".py",
   "mimetype": "text/x-python",
   "name": "python",
   "nbconvert_exporter": "python",
   "pygments_lexer": "ipython3",
   "version": "3.9.13"
  }
 },
 "nbformat": 4,
 "nbformat_minor": 2
}
